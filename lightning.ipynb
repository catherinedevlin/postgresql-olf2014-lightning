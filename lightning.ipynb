{
 "metadata": {
  "celltoolbar": "Slideshow",
  "name": "",
  "signature": "sha256:0a72736d716c1e7127fff5ad4bfa0e78d11507d15b84b29865591a90812f3fc9"
 },
 "nbformat": 3,
 "nbformat_minor": 0,
 "worksheets": [
  {
   "cells": [
    {
     "cell_type": "markdown",
     "metadata": {
      "internals": {
       "frag_helper": "fragment_end",
       "frag_number": 3
      },
      "slideshow": {
       "slide_type": "fragment"
      }
     },
     "source": [
      "![PostgreSQL logo](postgresql_logo.png)"
     ]
    },
    {
     "cell_type": "heading",
     "level": 2,
     "metadata": {
      "internals": {
       "frag_number": 1
      },
      "slideshow": {
       "slide_type": "fragment"
      }
     },
     "source": [
      "Not Some Hipster Database; Get Off My Lawn"
     ]
    },
    {
     "cell_type": "markdown",
     "metadata": {
      "internals": {
       "frag_helper": "fragment_end",
       "frag_number": 2
      },
      "slideshow": {
       "slide_type": "fragment"
      }
     },
     "source": [
      "@catherinedevlin\n",
      "\n",
      "http://tinyurl.com/postgresql-not-hipster"
     ]
    },
    {
     "cell_type": "heading",
     "level": 2,
     "metadata": {
      "internals": {
       "frag_helper": "fragment_end",
       "frag_number": 4,
       "slide_helper": "subslide_end"
      },
      "slide_helper": "slide_end",
      "slideshow": {
       "slide_type": "fragment"
      }
     },
     "source": [
      "Relational Databases Are Awesome"
     ]
    },
    {
     "cell_type": "heading",
     "level": 3,
     "metadata": {
      "internals": {
       "frag_helper": "fragment_end",
       "frag_number": 4,
       "slide_type": "subslide"
      },
      "slideshow": {
       "slide_type": "slide"
      }
     },
     "source": [
      "Quit Whining"
     ]
    },
    {
     "cell_type": "code",
     "collapsed": false,
     "input": [
      "!ddlgenerator -d -i postgresql luxembourg.xls | psql"
     ],
     "language": "python",
     "metadata": {
      "internals": {
       "frag_helper": "fragment_end",
       "frag_number": 6
      },
      "slideshow": {
       "slide_type": "fragment"
      }
     },
     "outputs": [
      {
       "output_type": "stream",
       "stream": "stdout",
       "text": [
        "NOTICE:  table \"luxembourg\" does not exist, skipping\r\n",
        "DROP TABLE\r\n",
        "CREATE TABLE\r\n",
        "INSERT 0 1\r\n",
        "INSERT 0 1\r\n",
        "INSERT 0 1\r\n",
        "INSERT 0 1\r\n",
        "INSERT 0 1\r\n",
        "INSERT 0 1\r\n"
       ]
      }
     ],
     "prompt_number": 8
    },
    {
     "cell_type": "code",
     "collapsed": false,
     "input": [
      "%load_ext sql\n",
      "%sql postgresql://:@/catherine SELECT * FROM luxembourg"
     ],
     "language": "python",
     "metadata": {
      "internals": {
       "frag_helper": "fragment_end",
       "frag_number": 7,
       "slide_helper": "subslide_end"
      },
      "slide_helper": "slide_end",
      "slideshow": {
       "slide_type": "fragment"
      }
     },
     "outputs": [
      {
       "output_type": "stream",
       "stream": "stdout",
       "text": [
        "The sql extension is already loaded. To reload it, use:\n",
        "  %reload_ext sql\n",
        "6 rows affected."
       ]
      },
      {
       "output_type": "stream",
       "stream": "stdout",
       "text": [
        "\n"
       ]
      },
      {
       "html": [
        "<table>\n",
        "    <tr>\n",
        "        <th>name</th>\n",
        "        <th>reign_begins</th>\n",
        "        <th>reign_ends</th>\n",
        "    </tr>\n",
        "    <tr>\n",
        "        <td>Adolphe</td>\n",
        "        <td>1890-11-23 00:00:00</td>\n",
        "        <td>1905-11-17 00:00:00</td>\n",
        "    </tr>\n",
        "    <tr>\n",
        "        <td>Guillaume IV</td>\n",
        "        <td>1905-11-17 00:00:00</td>\n",
        "        <td>1912-02-25 00:00:00</td>\n",
        "    </tr>\n",
        "    <tr>\n",
        "        <td>Marie-Ad\u00e9la\u00efde</td>\n",
        "        <td>1912-02-25 00:00:00</td>\n",
        "        <td>1919-01-14 00:00:00</td>\n",
        "    </tr>\n",
        "    <tr>\n",
        "        <td>Charlotte</td>\n",
        "        <td>1919-01-14 00:00:00</td>\n",
        "        <td>1964-11-12 00:00:00</td>\n",
        "    </tr>\n",
        "    <tr>\n",
        "        <td>Jean</td>\n",
        "        <td>1964-11-12 00:00:00</td>\n",
        "        <td>2000-10-07 00:00:00</td>\n",
        "    </tr>\n",
        "    <tr>\n",
        "        <td>Henri</td>\n",
        "        <td>2000-10-07 00:00:00</td>\n",
        "        <td>None</td>\n",
        "    </tr>\n",
        "</table>"
       ],
       "metadata": {},
       "output_type": "pyout",
       "prompt_number": 10,
       "text": [
        "[('Adolphe', datetime.datetime(1890, 11, 23, 0, 0), datetime.datetime(1905, 11, 17, 0, 0)),\n",
        " ('Guillaume IV', datetime.datetime(1905, 11, 17, 0, 0), datetime.datetime(1912, 2, 25, 0, 0)),\n",
        " ('Marie-Ad\u00e9la\u00efde', datetime.datetime(1912, 2, 25, 0, 0), datetime.datetime(1919, 1, 14, 0, 0)),\n",
        " ('Charlotte', datetime.datetime(1919, 1, 14, 0, 0), datetime.datetime(1964, 11, 12, 0, 0)),\n",
        " ('Jean', datetime.datetime(1964, 11, 12, 0, 0), datetime.datetime(2000, 10, 7, 0, 0)),\n",
        " ('Henri', datetime.datetime(2000, 10, 7, 0, 0), None)]"
       ]
      }
     ],
     "prompt_number": 10
    },
    {
     "cell_type": "heading",
     "level": 1,
     "metadata": {
      "internals": {
       "frag_helper": "fragment_end",
       "frag_number": 7,
       "slide_helper": "subslide_end",
       "slide_type": "subslide"
      },
      "slide_helper": "subslide_end",
      "slideshow": {
       "slide_type": "slide"
      }
     },
     "source": [
      "JSON"
     ]
    },
    {
     "cell_type": "code",
     "collapsed": false,
     "input": [
      "%%sql \n",
      "DROP TABLE IF EXISTS family;\n",
      "CREATE TABLE family (id SERIAL PRIMARY KEY, tree JSON NOT NULL);\n",
      "INSERT INTO family (tree) VALUES ('\n",
      "  {\"rank\": \"Prince\",\n",
      "   \"name\": \"Louis\",\n",
      "   \"born\": \"3 Aug 1986\",\n",
      "   \"children\": [\n",
      "     {\"rank\": \"Prince\", \"name\": \"Gabriel Michael Louis Ronny\", \"born\": \"12 Mar 2006\"},\n",
      "     {\"rank\": \"Prince\", \"name\": \"Noah Etienne Guillaume Gabriel Matthias Xavier\", \"born\": \"21 Sep 2007\"}\n",
      "   ]\n",
      "   }');\n",
      "INSERT INTO family (tree) VALUES ('\n",
      "  {\"rank\": \"Princess\",\n",
      "   \"name\": \"Alexandra\",\n",
      "   \"born\": \"16 Feb 1991\"\n",
      "   }');                                 "
     ],
     "language": "python",
     "metadata": {
      "internals": {
       "frag_helper": "fragment_end",
       "frag_number": 7,
       "slide_helper": "subslide_end",
       "slide_type": "subslide"
      },
      "slide_helper": "subslide_end",
      "slideshow": {
       "slide_type": "subslide"
      }
     },
     "outputs": [
      {
       "output_type": "stream",
       "stream": "stdout",
       "text": [
        "Done.\n",
        "Done.\n",
        "1 rows affected.\n",
        "1 rows affected.\n"
       ]
      },
      {
       "metadata": {},
       "output_type": "pyout",
       "prompt_number": 19,
       "text": [
        "[]"
       ]
      }
     ],
     "prompt_number": 19
    },
    {
     "cell_type": "code",
     "collapsed": false,
     "input": [
      "%sql SELECT * FROM family"
     ],
     "language": "python",
     "metadata": {
      "internals": {
       "frag_helper": "fragment_end",
       "frag_number": 7,
       "slide_type": "subslide"
      },
      "slideshow": {
       "slide_type": "subslide"
      }
     },
     "outputs": [
      {
       "output_type": "stream",
       "stream": "stdout",
       "text": [
        "2 rows affected.\n"
       ]
      },
      {
       "html": [
        "<table>\n",
        "    <tr>\n",
        "        <th>id</th>\n",
        "        <th>tree</th>\n",
        "    </tr>\n",
        "    <tr>\n",
        "        <td>1</td>\n",
        "        <td>{&#x27;name&#x27;: &#x27;Louis&#x27;, &#x27;born&#x27;: &#x27;3 Aug 1986&#x27;, &#x27;rank&#x27;: &#x27;Prince&#x27;, &#x27;children&#x27;: [{&#x27;name&#x27;: &#x27;Gabriel Michael Louis Ronny&#x27;, &#x27;born&#x27;: &#x27;12 Mar 2006&#x27;, &#x27;rank&#x27;: &#x27;Prince&#x27;}, {&#x27;name&#x27;: &#x27;Noah Etienne Guillaume Gabriel Matthias Xavier&#x27;, &#x27;born&#x27;: &#x27;21 Sep 2007&#x27;, &#x27;rank&#x27;: &#x27;Prince&#x27;}]}</td>\n",
        "    </tr>\n",
        "    <tr>\n",
        "        <td>2</td>\n",
        "        <td>{&#x27;name&#x27;: &#x27;Alexandra&#x27;, &#x27;born&#x27;: &#x27;16 Feb 1991&#x27;, &#x27;rank&#x27;: &#x27;Princess&#x27;}</td>\n",
        "    </tr>\n",
        "</table>"
       ],
       "metadata": {},
       "output_type": "pyout",
       "prompt_number": 20,
       "text": [
        "[(1, {'name': 'Louis', 'born': '3 Aug 1986', 'rank': 'Prince', 'children': [{'name': 'Gabriel Michael Louis Ronny', 'born': '12 Mar 2006', 'rank': 'Prince'}, {'name': 'Noah Etienne Guillaume Gabriel Matthias Xavier', 'born': '21 Sep 2007', 'rank': 'Prince'}]}),\n",
        " (2, {'name': 'Alexandra', 'born': '16 Feb 1991', 'rank': 'Princess'})]"
       ]
      }
     ],
     "prompt_number": 20
    },
    {
     "cell_type": "code",
     "collapsed": false,
     "input": [
      "%sql SELECT id, tree->'children'->1->'name' FROM family"
     ],
     "language": "python",
     "metadata": {
      "internals": {
       "frag_helper": "fragment_end",
       "frag_number": 11,
       "slide_helper": "subslide_end"
      },
      "slide_helper": "slide_end",
      "slideshow": {
       "slide_type": "fragment"
      }
     },
     "outputs": [
      {
       "output_type": "stream",
       "stream": "stdout",
       "text": [
        "2 rows affected.\n"
       ]
      },
      {
       "html": [
        "<table>\n",
        "    <tr>\n",
        "        <th>id</th>\n",
        "        <th>?column?</th>\n",
        "    </tr>\n",
        "    <tr>\n",
        "        <td>1</td>\n",
        "        <td>Noah Etienne Guillaume Gabriel Matthias Xavier</td>\n",
        "    </tr>\n",
        "    <tr>\n",
        "        <td>2</td>\n",
        "        <td>None</td>\n",
        "    </tr>\n",
        "</table>"
       ],
       "metadata": {},
       "output_type": "pyout",
       "prompt_number": 25,
       "text": [
        "[(1, 'Noah Etienne Guillaume Gabriel Matthias Xavier'), (2, None)]"
       ]
      }
     ],
     "prompt_number": 25
    },
    {
     "cell_type": "heading",
     "level": 1,
     "metadata": {
      "internals": {
       "frag_helper": "fragment_end",
       "frag_number": 11,
       "slide_helper": "subslide_end",
       "slide_type": "subslide"
      },
      "slide_helper": "subslide_end",
      "slideshow": {
       "slide_type": "slide"
      }
     },
     "source": [
      "Full Text Search"
     ]
    },
    {
     "cell_type": "code",
     "collapsed": false,
     "input": [
      "!ddlgenerator -d -i postgresql http://en.wikipedia.org/wiki/List_of_cities_in_Ohio | psql > /dev/null"
     ],
     "language": "python",
     "metadata": {
      "internals": {
       "frag_helper": "fragment_end",
       "frag_number": 11,
       "slide_type": "subslide"
      },
      "slideshow": {
       "slide_type": "subslide"
      }
     },
     "outputs": [],
     "prompt_number": 40
    },
    {
     "cell_type": "code",
     "collapsed": false,
     "input": [
      "%sql ALTER TABLE list_of_cities_in_ohio RENAME TO cities"
     ],
     "language": "python",
     "metadata": {
      "internals": {
       "frag_helper": "fragment_end",
       "frag_number": 14
      },
      "slideshow": {
       "slide_type": "fragment"
      }
     },
     "outputs": [
      {
       "output_type": "stream",
       "stream": "stdout",
       "text": [
        "Done.\n"
       ]
      },
      {
       "metadata": {},
       "output_type": "pyout",
       "prompt_number": 41,
       "text": [
        "[]"
       ]
      }
     ],
     "prompt_number": 41
    },
    {
     "cell_type": "code",
     "collapsed": false,
     "input": [
      "%sql SELECT * FROM cities LIMIT 5"
     ],
     "language": "python",
     "metadata": {
      "internals": {
       "frag_helper": "fragment_end",
       "frag_number": 15,
       "slide_helper": "subslide_end"
      },
      "slide_helper": "subslide_end",
      "slideshow": {
       "slide_type": "fragment"
      }
     },
     "outputs": [
      {
       "output_type": "stream",
       "stream": "stdout",
       "text": [
        "5 rows affected.\n"
       ]
      },
      {
       "html": [
        "<table>\n",
        "    <tr>\n",
        "        <th>city</th>\n",
        "        <th>population</th>\n",
        "        <th>county</th>\n",
        "    </tr>\n",
        "    <tr>\n",
        "        <td>Akron</td>\n",
        "        <td>199,110</td>\n",
        "        <td>Summit County</td>\n",
        "    </tr>\n",
        "    <tr>\n",
        "        <td>Alliance</td>\n",
        "        <td>22,322</td>\n",
        "        <td>Stark County and Mahoning County</td>\n",
        "    </tr>\n",
        "    <tr>\n",
        "        <td>Amherst</td>\n",
        "        <td>12,021</td>\n",
        "        <td>Lorain County</td>\n",
        "    </tr>\n",
        "    <tr>\n",
        "        <td>Ashland</td>\n",
        "        <td>20,362</td>\n",
        "        <td>Ashland County</td>\n",
        "    </tr>\n",
        "    <tr>\n",
        "        <td>Ashtabula</td>\n",
        "        <td>19,124</td>\n",
        "        <td>Ashtabula County</td>\n",
        "    </tr>\n",
        "</table>"
       ],
       "metadata": {},
       "output_type": "pyout",
       "prompt_number": 47,
       "text": [
        "[('Akron', '199,110', 'Summit County'),\n",
        " ('Alliance', '22,322', 'Stark County and Mahoning County'),\n",
        " ('Amherst', '12,021', 'Lorain County'),\n",
        " ('Ashland', '20,362', 'Ashland County'),\n",
        " ('Ashtabula', '19,124', 'Ashtabula County')]"
       ]
      }
     ],
     "prompt_number": 47
    },
    {
     "cell_type": "code",
     "collapsed": false,
     "input": [
      "%sql ALTER TABLE cities ADD COLUMN all_txt TSVECTOR"
     ],
     "language": "python",
     "metadata": {
      "internals": {
       "frag_helper": "fragment_end",
       "frag_number": 15,
       "slide_helper": "subslide_end",
       "slide_type": "subslide"
      },
      "slide_helper": "slide_end",
      "slideshow": {
       "slide_type": "subslide"
      }
     },
     "outputs": [
      {
       "output_type": "stream",
       "stream": "stdout",
       "text": [
        "Done.\n"
       ]
      },
      {
       "metadata": {},
       "output_type": "pyout",
       "prompt_number": 51,
       "text": [
        "[]"
       ]
      }
     ],
     "prompt_number": 51
    },
    {
     "cell_type": "code",
     "collapsed": false,
     "input": [
      "%%sql\n",
      "UPDATE   cities\n",
      "SET      all_txt =    SETWEIGHT(TO_TSVECTOR(city), 'A') \n",
      "                   || SETWEIGHT(TO_TSVECTOR(county), 'B');"
     ],
     "language": "python",
     "metadata": {
      "slideshow": {
       "slide_type": "fragment"
      }
     },
     "outputs": [
      {
       "output_type": "stream",
       "stream": "stdout",
       "text": [
        "246 rows affected.\n"
       ]
      },
      {
       "metadata": {},
       "output_type": "pyout",
       "prompt_number": 54,
       "text": [
        "[]"
       ]
      }
     ],
     "prompt_number": 54
    },
    {
     "cell_type": "code",
     "collapsed": false,
     "input": [
      "%sql SELECT * FROM cities LIMIT 5"
     ],
     "language": "python",
     "metadata": {
      "slideshow": {
       "slide_type": "fragment"
      }
     },
     "outputs": [
      {
       "output_type": "stream",
       "stream": "stdout",
       "text": [
        "5 rows affected.\n"
       ]
      },
      {
       "html": [
        "<table>\n",
        "    <tr>\n",
        "        <th>city</th>\n",
        "        <th>population</th>\n",
        "        <th>county</th>\n",
        "        <th>all_txt</th>\n",
        "    </tr>\n",
        "    <tr>\n",
        "        <td>Akron</td>\n",
        "        <td>199,110</td>\n",
        "        <td>Summit County</td>\n",
        "        <td>&#x27;akron&#x27;:1A &#x27;counti&#x27;:3B &#x27;summit&#x27;:2B</td>\n",
        "    </tr>\n",
        "    <tr>\n",
        "        <td>Alliance</td>\n",
        "        <td>22,322</td>\n",
        "        <td>Stark County and Mahoning County</td>\n",
        "        <td>&#x27;allianc&#x27;:1A &#x27;counti&#x27;:3B,6B &#x27;mahon&#x27;:5B &#x27;stark&#x27;:2B</td>\n",
        "    </tr>\n",
        "    <tr>\n",
        "        <td>Amherst</td>\n",
        "        <td>12,021</td>\n",
        "        <td>Lorain County</td>\n",
        "        <td>&#x27;amherst&#x27;:1A &#x27;counti&#x27;:3B &#x27;lorain&#x27;:2B</td>\n",
        "    </tr>\n",
        "    <tr>\n",
        "        <td>Ashland</td>\n",
        "        <td>20,362</td>\n",
        "        <td>Ashland County</td>\n",
        "        <td>&#x27;ashland&#x27;:1A,2B &#x27;counti&#x27;:3B</td>\n",
        "    </tr>\n",
        "    <tr>\n",
        "        <td>Ashtabula</td>\n",
        "        <td>19,124</td>\n",
        "        <td>Ashtabula County</td>\n",
        "        <td>&#x27;ashtabula&#x27;:1A,2B &#x27;counti&#x27;:3B</td>\n",
        "    </tr>\n",
        "</table>"
       ],
       "metadata": {},
       "output_type": "pyout",
       "prompt_number": 55,
       "text": [
        "[('Akron', '199,110', 'Summit County', \"'akron':1A 'counti':3B 'summit':2B\"),\n",
        " ('Alliance', '22,322', 'Stark County and Mahoning County', \"'allianc':1A 'counti':3B,6B 'mahon':5B 'stark':2B\"),\n",
        " ('Amherst', '12,021', 'Lorain County', \"'amherst':1A 'counti':3B 'lorain':2B\"),\n",
        " ('Ashland', '20,362', 'Ashland County', \"'ashland':1A,2B 'counti':3B\"),\n",
        " ('Ashtabula', '19,124', 'Ashtabula County', \"'ashtabula':1A,2B 'counti':3B\")]"
       ]
      }
     ],
     "prompt_number": 55
    },
    {
     "cell_type": "code",
     "collapsed": false,
     "input": [
      "%%sql \n",
      "SELECT city, population, county\n",
      "FROM   cities\n",
      "WHERE  all_txt @@ to_tsquery('montgomery')\n",
      "ORDER BY ts_rank(all_txt, to_tsquery('montgomery')) DESC, city"
     ],
     "language": "python",
     "metadata": {
      "slideshow": {
       "slide_type": "subslide"
      }
     },
     "outputs": [
      {
       "output_type": "stream",
       "stream": "stdout",
       "text": [
        "18 rows affected.\n"
       ]
      },
      {
       "html": [
        "<table>\n",
        "    <tr>\n",
        "        <th>city</th>\n",
        "        <th>population</th>\n",
        "        <th>county</th>\n",
        "    </tr>\n",
        "    <tr>\n",
        "        <td>Montgomery</td>\n",
        "        <td>10,251</td>\n",
        "        <td>Hamilton County</td>\n",
        "    </tr>\n",
        "    <tr>\n",
        "        <td>Brookville</td>\n",
        "        <td>5,884</td>\n",
        "        <td>Montgomery County</td>\n",
        "    </tr>\n",
        "    <tr>\n",
        "        <td>Centerville</td>\n",
        "        <td>23,999</td>\n",
        "        <td>Montgomery County and Greene County</td>\n",
        "    </tr>\n",
        "    <tr>\n",
        "        <td>Clayton</td>\n",
        "        <td>13,209</td>\n",
        "        <td>Montgomery County and Miami County</td>\n",
        "    </tr>\n",
        "    <tr>\n",
        "        <td>Dayton</td>\n",
        "        <td>141,527</td>\n",
        "        <td>Montgomery County</td>\n",
        "    </tr>\n",
        "    <tr>\n",
        "        <td>Englewood</td>\n",
        "        <td>13,465</td>\n",
        "        <td>Montgomery County</td>\n",
        "    </tr>\n",
        "    <tr>\n",
        "        <td>Germantown</td>\n",
        "        <td>6,215</td>\n",
        "        <td>Montgomery County</td>\n",
        "    </tr>\n",
        "    <tr>\n",
        "        <td>Huber Heights</td>\n",
        "        <td>38,101</td>\n",
        "        <td>Montgomery County and Miami County</td>\n",
        "    </tr>\n",
        "    <tr>\n",
        "        <td>Kettering</td>\n",
        "        <td>56,163</td>\n",
        "        <td>Montgomery County and Greene County</td>\n",
        "    </tr>\n",
        "    <tr>\n",
        "        <td>Miamisburg</td>\n",
        "        <td>20,181</td>\n",
        "        <td>Montgomery County</td>\n",
        "    </tr>\n",
        "    <tr>\n",
        "        <td>Moraine</td>\n",
        "        <td>6,307</td>\n",
        "        <td>Montgomery County</td>\n",
        "    </tr>\n",
        "    <tr>\n",
        "        <td>Oakwood</td>\n",
        "        <td>9,202</td>\n",
        "        <td>Montgomery County</td>\n",
        "    </tr>\n",
        "    <tr>\n",
        "        <td>Riverside</td>\n",
        "        <td>25,201</td>\n",
        "        <td>Montgomery County</td>\n",
        "    </tr>\n",
        "    <tr>\n",
        "        <td>Springboro</td>\n",
        "        <td>17,409</td>\n",
        "        <td>Warren County and Montgomery County</td>\n",
        "    </tr>\n",
        "    <tr>\n",
        "        <td>Trotwood</td>\n",
        "        <td>24,431</td>\n",
        "        <td>Montgomery County</td>\n",
        "    </tr>\n",
        "    <tr>\n",
        "        <td>Union</td>\n",
        "        <td>6,419</td>\n",
        "        <td>Montgomery County and Miami County</td>\n",
        "    </tr>\n",
        "    <tr>\n",
        "        <td>Vandalia</td>\n",
        "        <td>15,246</td>\n",
        "        <td>Montgomery County</td>\n",
        "    </tr>\n",
        "    <tr>\n",
        "        <td>West Carrollton</td>\n",
        "        <td>13,143</td>\n",
        "        <td>Montgomery County</td>\n",
        "    </tr>\n",
        "</table>"
       ],
       "metadata": {},
       "output_type": "pyout",
       "prompt_number": 93,
       "text": [
        "[('Montgomery', '10,251', 'Hamilton County'),\n",
        " ('Brookville', '5,884', 'Montgomery County'),\n",
        " ('Centerville', '23,999', 'Montgomery County and Greene County'),\n",
        " ('Clayton', '13,209', 'Montgomery County and Miami County'),\n",
        " ('Dayton', '141,527', 'Montgomery County'),\n",
        " ('Englewood', '13,465', 'Montgomery County'),\n",
        " ('Germantown', '6,215', 'Montgomery County'),\n",
        " ('Huber Heights', '38,101', 'Montgomery County and Miami County'),\n",
        " ('Kettering', '56,163', 'Montgomery County and Greene County'),\n",
        " ('Miamisburg', '20,181', 'Montgomery County'),\n",
        " ('Moraine', '6,307', 'Montgomery County'),\n",
        " ('Oakwood', '9,202', 'Montgomery County'),\n",
        " ('Riverside', '25,201', 'Montgomery County'),\n",
        " ('Springboro', '17,409', 'Warren County and Montgomery County'),\n",
        " ('Trotwood', '24,431', 'Montgomery County'),\n",
        " ('Union', '6,419', 'Montgomery County and Miami County'),\n",
        " ('Vandalia', '15,246', 'Montgomery County'),\n",
        " ('West Carrollton', '13,143', 'Montgomery County')]"
       ]
      }
     ],
     "prompt_number": 93
    },
    {
     "cell_type": "heading",
     "level": 1,
     "metadata": {
      "slideshow": {
       "slide_type": "slide"
      }
     },
     "source": [
      "Foreign Data Wrappers"
     ]
    },
    {
     "cell_type": "code",
     "collapsed": false,
     "input": [
      "!sqlite3 movies.sqlite3 \"select * from movies\""
     ],
     "language": "python",
     "metadata": {
      "slideshow": {
       "slide_type": "subslide"
      }
     },
     "outputs": [
      {
       "output_type": "stream",
       "stream": "stdout",
       "text": [
        "Star Wars|1977|Millenium Falcon\r\n",
        "Serenity|2005|Serenity\r\n",
        "20,000 Leagues Under the Sea|1954|Nautilus\r\n"
       ]
      }
     ],
     "prompt_number": 96
    },
    {
     "cell_type": "code",
     "collapsed": false,
     "input": [
      "!mongo spaceships < getships.js"
     ],
     "language": "python",
     "metadata": {
      "slideshow": {
       "slide_type": "fragment"
      }
     },
     "outputs": [
      {
       "output_type": "stream",
       "stream": "stdout",
       "text": [
        "MongoDB shell version: 2.4.9\r\n",
        "connecting to: spaceships\r\n",
        "{ \"_id\" : ObjectId(\"5447a3324807a74b0ff385ac\"), \"name\" : \"Millenium Falcon\", \"captain\" : \"Han Solo\" }\r\n",
        "{ \"_id\" : ObjectId(\"5447a47a4807a74b0ff385ad\"), \"name\" : \"Serenity\", \"captain\" : \"Mal Reynolds\" }\r\n",
        "{ \"_id\" : ObjectId(\"5447a4e14807a74b0ff385ae\"), \"name\" : \"Nautilus\", \"captain\" : \"Nemo\" }\r\n",
        "bye\r\n"
       ]
      }
     ],
     "prompt_number": 95
    },
    {
     "cell_type": "code",
     "collapsed": false,
     "input": [
      "!head -5 cast.csv"
     ],
     "language": "python",
     "metadata": {
      "slideshow": {
       "slide_type": "fragment"
      }
     },
     "outputs": [
      {
       "output_type": "stream",
       "stream": "stdout",
       "text": [
        "Nathan Fillion, Mal Reynolds\r\n",
        "Jewel Staite, Kaylee Frye\r\n",
        "Adam Baldwin, Jayne Cobb\r\n",
        "Alan Tudyk, Hoban \"Wash\" Washburne\r\n",
        "Morena Baccarin, Inara Serra\r\n"
       ]
      }
     ],
     "prompt_number": 114
    },
    {
     "cell_type": "code",
     "collapsed": false,
     "input": [
      "%%sql\n",
      "DROP EXTENSION file_fdw CASCADE;\n",
      "CREATE EXTENSION file_fdw;\n",
      "CREATE SERVER file_server FOREIGN DATA WRAPPER file_fdw;\n",
      "CREATE FOREIGN TABLE roles (role TEXT, actor TEXT)\n",
      "SERVER file_server OPTIONS (filename '/home/catherine/proj/postgresql-olf2014-lightning/cast.csv', \n",
      "                            format 'csv')\n"
     ],
     "language": "python",
     "metadata": {
      "slideshow": {
       "slide_type": "subslide"
      }
     },
     "outputs": [
      {
       "output_type": "stream",
       "stream": "stdout",
       "text": [
        "Done.\n",
        "Done.\n",
        "Done.\n",
        "Done.\n"
       ]
      },
      {
       "metadata": {},
       "output_type": "pyout",
       "prompt_number": 111,
       "text": [
        "[]"
       ]
      }
     ],
     "prompt_number": 111
    },
    {
     "cell_type": "code",
     "collapsed": false,
     "input": [
      "%sql SELECT * FROM roles LIMIT 5"
     ],
     "language": "python",
     "metadata": {
      "slideshow": {
       "slide_type": "subslide"
      }
     },
     "outputs": [
      {
       "output_type": "stream",
       "stream": "stdout",
       "text": [
        "5 rows affected.\n"
       ]
      },
      {
       "html": [
        "<table>\n",
        "    <tr>\n",
        "        <th>role</th>\n",
        "        <th>actor</th>\n",
        "    </tr>\n",
        "    <tr>\n",
        "        <td>Nathan Fillion</td>\n",
        "        <td> Mal Reynolds</td>\n",
        "    </tr>\n",
        "    <tr>\n",
        "        <td>Jewel Staite</td>\n",
        "        <td> Kaylee Frye</td>\n",
        "    </tr>\n",
        "    <tr>\n",
        "        <td>Adam Baldwin</td>\n",
        "        <td> Jayne Cobb</td>\n",
        "    </tr>\n",
        "    <tr>\n",
        "        <td>Alan Tudyk</td>\n",
        "        <td> Hoban Wash Washburne</td>\n",
        "    </tr>\n",
        "    <tr>\n",
        "        <td>Morena Baccarin</td>\n",
        "        <td> Inara Serra</td>\n",
        "    </tr>\n",
        "</table>"
       ],
       "metadata": {},
       "output_type": "pyout",
       "prompt_number": 115,
       "text": [
        "[('Nathan Fillion', ' Mal Reynolds'),\n",
        " ('Jewel Staite', ' Kaylee Frye'),\n",
        " ('Adam Baldwin', ' Jayne Cobb'),\n",
        " ('Alan Tudyk', ' Hoban Wash Washburne'),\n",
        " ('Morena Baccarin', ' Inara Serra')]"
       ]
      }
     ],
     "prompt_number": 115
    },
    {
     "cell_type": "code",
     "collapsed": false,
     "input": [
      "%%sql\n",
      "CREATE SERVER csv FOREIGN DATA WRAPPER file_fdw"
     ],
     "language": "python",
     "metadata": {},
     "outputs": []
    },
    {
     "cell_type": "markdown",
     "metadata": {},
     "source": [
      "[so many more!](https://wiki.postgresql.org/wiki/Foreign_data_wrappers)"
     ]
    }
   ],
   "metadata": {}
  }
 ]
}