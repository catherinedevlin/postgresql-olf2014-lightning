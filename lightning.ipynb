{
 "metadata": {
  "celltoolbar": "Slideshow",
  "name": "",
  "signature": "sha256:031166c2ddcd6ac7f37e517d804417d98373af23cab6d0f68ac71d5b868b14ff"
 },
 "nbformat": 3,
 "nbformat_minor": 0,
 "worksheets": [
  {
   "cells": [
    {
     "cell_type": "code",
     "collapsed": false,
     "input": [
      "!dropdb catherine"
     ],
     "language": "python",
     "metadata": {
      "internals": {
       "slide_type": "subslide"
      },
      "slideshow": {
       "slide_type": "slide"
      }
     },
     "outputs": [],
     "prompt_number": 1
    },
    {
     "cell_type": "code",
     "collapsed": false,
     "input": [
      "!createdb catherine"
     ],
     "language": "python",
     "metadata": {
      "internals": {
       "frag_number": 1,
       "slide_helper": "subslide_end"
      },
      "slide_helper": "slide_end",
      "slideshow": {
       "slide_type": "fragment"
      }
     },
     "outputs": [],
     "prompt_number": 2
    },
    {
     "cell_type": "markdown",
     "metadata": {
      "internals": {
       "frag_helper": "fragment_end",
       "frag_number": 1,
       "slide_type": "subslide"
      },
      "slideshow": {
       "slide_type": "slide"
      }
     },
     "source": [
      "![PostgreSQL logo](postgresql_logo.png)"
     ]
    },
    {
     "cell_type": "heading",
     "level": 1,
     "metadata": {
      "internals": {
       "frag_helper": "fragment_end",
       "frag_number": 3
      },
      "slideshow": {
       "slide_type": "fragment"
      }
     },
     "source": [
      "Not Hipster Databases"
     ]
    },
    {
     "cell_type": "markdown",
     "metadata": {
      "internals": {
       "frag_helper": "fragment_end",
       "frag_number": 4,
       "slide_helper": "subslide_end"
      },
      "slide_helper": "slide_end",
      "slideshow": {
       "slide_type": "fragment"
      }
     },
     "source": [
      "@catherinedevlin, catherinedevlin.blogspot.com\n",
      "\n",
      "http://tinyurl.com/postgresql-not-hipster\n",
      "\n",
      "This is an [IPython Notebook](http://ipython.org/notebook.html) with the [ipython-sql](https://github.com/catherinedevliin/ipython-sql) and [live_reveal](https://github.com/damianavila/live_reveal.git) extensions"
     ]
    },
    {
     "cell_type": "heading",
     "level": 2,
     "metadata": {
      "internals": {
       "frag_helper": "fragment_end",
       "frag_number": 4,
       "slide_type": "subslide"
      },
      "slideshow": {
       "slide_type": "slide"
      }
     },
     "source": [
      "Feeeeeeeatures"
     ]
    },
    {
     "cell_type": "code",
     "collapsed": false,
     "input": [
      "!ddlgenerator -d -i postgresql luxembourg.xls | psql"
     ],
     "language": "python",
     "metadata": {
      "internals": {
       "frag_helper": "fragment_end",
       "frag_number": 6,
       "slide_helper": "subslide_end"
      },
      "slide_helper": "subslide_end",
      "slideshow": {
       "slide_type": "fragment"
      }
     },
     "outputs": [
      {
       "output_type": "stream",
       "stream": "stdout",
       "text": [
        "NOTICE:  table \"luxembourg\" does not exist, skipping\r\n",
        "DROP TABLE\r\n",
        "CREATE TABLE\r\n",
        "INSERT 0 1\r\n",
        "INSERT 0 1\r\n",
        "INSERT 0 1\r\n",
        "INSERT 0 1\r\n",
        "INSERT 0 1\r\n",
        "INSERT 0 1\r\n"
       ]
      }
     ],
     "prompt_number": 3
    },
    {
     "cell_type": "code",
     "collapsed": false,
     "input": [
      "%load_ext sql\n",
      "%sql postgresql://:@/catherine SELECT * FROM luxembourg"
     ],
     "language": "python",
     "metadata": {
      "internals": {
       "frag_helper": "fragment_end",
       "frag_number": 6,
       "slide_helper": "subslide_end",
       "slide_type": "subslide"
      },
      "slide_helper": "subslide_end",
      "slideshow": {
       "slide_type": "subslide"
      }
     },
     "outputs": [
      {
       "output_type": "stream",
       "stream": "stdout",
       "text": [
        "6 rows affected.\n"
       ]
      },
      {
       "html": [
        "<table>\n",
        "    <tr>\n",
        "        <th>name</th>\n",
        "        <th>reign_ends</th>\n",
        "    </tr>\n",
        "    <tr>\n",
        "        <td>Adolphe</td>\n",
        "        <td>1905-11-17 00:00:00</td>\n",
        "    </tr>\n",
        "    <tr>\n",
        "        <td>Guillaume IV</td>\n",
        "        <td>1912-02-25 00:00:00</td>\n",
        "    </tr>\n",
        "    <tr>\n",
        "        <td>Marie-Ad\u00e9la\u00efde</td>\n",
        "        <td>1919-01-14 00:00:00</td>\n",
        "    </tr>\n",
        "    <tr>\n",
        "        <td>Charlotte</td>\n",
        "        <td>1964-11-12 00:00:00</td>\n",
        "    </tr>\n",
        "    <tr>\n",
        "        <td>Jean</td>\n",
        "        <td>2000-10-07 00:00:00</td>\n",
        "    </tr>\n",
        "    <tr>\n",
        "        <td>Henri</td>\n",
        "        <td>None</td>\n",
        "    </tr>\n",
        "</table>"
       ],
       "metadata": {},
       "output_type": "pyout",
       "prompt_number": 4,
       "text": [
        "[('Adolphe', datetime.datetime(1905, 11, 17, 0, 0)),\n",
        " ('Guillaume IV', datetime.datetime(1912, 2, 25, 0, 0)),\n",
        " ('Marie-Ad\u00e9la\u00efde', datetime.datetime(1919, 1, 14, 0, 0)),\n",
        " ('Charlotte', datetime.datetime(1964, 11, 12, 0, 0)),\n",
        " ('Jean', datetime.datetime(2000, 10, 7, 0, 0)),\n",
        " ('Henri', None)]"
       ]
      }
     ],
     "prompt_number": 4
    },
    {
     "cell_type": "code",
     "collapsed": false,
     "input": [
      "!psql < novels.sql > /dev/null"
     ],
     "language": "python",
     "metadata": {
      "internals": {
       "frag_helper": "fragment_end",
       "frag_number": 6,
       "slide_type": "subslide"
      },
      "slideshow": {
       "slide_type": "subslide"
      }
     },
     "outputs": [],
     "prompt_number": 5
    },
    {
     "cell_type": "code",
     "collapsed": false,
     "input": [
      "%sql SELECT * FROM novels"
     ],
     "language": "python",
     "metadata": {
      "internals": {
       "frag_helper": "fragment_end",
       "frag_number": 9,
       "slide_helper": "subslide_end"
      },
      "slide_helper": "slide_end",
      "slideshow": {
       "slide_type": "fragment"
      }
     },
     "outputs": [
      {
       "output_type": "stream",
       "stream": "stdout",
       "text": [
        "10 rows affected.\n"
       ]
      },
      {
       "html": [
        "<table>\n",
        "    <tr>\n",
        "        <th>ranking</th>\n",
        "        <th>published</th>\n",
        "        <th>title</th>\n",
        "    </tr>\n",
        "    <tr>\n",
        "        <td>1</td>\n",
        "        <td>1922-10-24 00:00:00</td>\n",
        "        <td>Ulysses</td>\n",
        "    </tr>\n",
        "    <tr>\n",
        "        <td>2</td>\n",
        "        <td>1925-10-24 00:00:00</td>\n",
        "        <td>The Great Gatsby</td>\n",
        "    </tr>\n",
        "    <tr>\n",
        "        <td>3</td>\n",
        "        <td>1916-10-24 00:00:00</td>\n",
        "        <td>A Portrait of the Artist as a Young Man</td>\n",
        "    </tr>\n",
        "    <tr>\n",
        "        <td>4</td>\n",
        "        <td>1955-10-24 00:00:00</td>\n",
        "        <td>Lolita</td>\n",
        "    </tr>\n",
        "    <tr>\n",
        "        <td>5</td>\n",
        "        <td>1932-10-24 00:00:00</td>\n",
        "        <td>Brave New World</td>\n",
        "    </tr>\n",
        "    <tr>\n",
        "        <td>6</td>\n",
        "        <td>1929-10-24 00:00:00</td>\n",
        "        <td>The Sound and the Fury</td>\n",
        "    </tr>\n",
        "    <tr>\n",
        "        <td>7</td>\n",
        "        <td>1961-10-24 00:00:00</td>\n",
        "        <td>Catch-22</td>\n",
        "    </tr>\n",
        "    <tr>\n",
        "        <td>8</td>\n",
        "        <td>1940-10-24 00:00:00</td>\n",
        "        <td>Darkness at Noon</td>\n",
        "    </tr>\n",
        "    <tr>\n",
        "        <td>9</td>\n",
        "        <td>1913-10-24 00:00:00</td>\n",
        "        <td>Sons and Lovers</td>\n",
        "    </tr>\n",
        "    <tr>\n",
        "        <td>10</td>\n",
        "        <td>1939-10-24 00:00:00</td>\n",
        "        <td>The Grapes of Wrath</td>\n",
        "    </tr>\n",
        "</table>"
       ],
       "metadata": {},
       "output_type": "pyout",
       "prompt_number": 6,
       "text": [
        "[(1, datetime.datetime(1922, 10, 24, 0, 0), 'Ulysses'),\n",
        " (2, datetime.datetime(1925, 10, 24, 0, 0), 'The Great Gatsby'),\n",
        " (3, datetime.datetime(1916, 10, 24, 0, 0), 'A Portrait of the Artist as a Young Man'),\n",
        " (4, datetime.datetime(1955, 10, 24, 0, 0), 'Lolita'),\n",
        " (5, datetime.datetime(1932, 10, 24, 0, 0), 'Brave New World'),\n",
        " (6, datetime.datetime(1929, 10, 24, 0, 0), 'The Sound and the Fury'),\n",
        " (7, datetime.datetime(1961, 10, 24, 0, 0), 'Catch-22'),\n",
        " (8, datetime.datetime(1940, 10, 24, 0, 0), 'Darkness at Noon'),\n",
        " (9, datetime.datetime(1913, 10, 24, 0, 0), 'Sons and Lovers'),\n",
        " (10, datetime.datetime(1939, 10, 24, 0, 0), 'The Grapes of Wrath')]"
       ]
      }
     ],
     "prompt_number": 6
    },
    {
     "cell_type": "code",
     "collapsed": false,
     "input": [
      "%%sql\n",
      "SELECT  n.title,\n",
      "        l.name\n",
      "FROM    novels n, \n",
      "        luxembourg l\n",
      "WHERE   l.reign_ends = \n",
      "  ( SELECT MIN(l2.reign_ends)\n",
      "    FROM   luxembourg l2\n",
      "    WHERE  l2.reign_ends > n.published )         "
     ],
     "language": "python",
     "metadata": {
      "internals": {
       "frag_helper": "fragment_end",
       "frag_number": 9,
       "slide_helper": "subslide_end",
       "slide_type": "subslide"
      },
      "slide_helper": "slide_end",
      "slideshow": {
       "slide_type": "slide"
      }
     },
     "outputs": [
      {
       "output_type": "stream",
       "stream": "stdout",
       "text": [
        "10 rows affected.\n"
       ]
      },
      {
       "html": [
        "<table>\n",
        "    <tr>\n",
        "        <th>title</th>\n",
        "        <th>name</th>\n",
        "    </tr>\n",
        "    <tr>\n",
        "        <td>Sons and Lovers</td>\n",
        "        <td>Marie-Ad\u00e9la\u00efde</td>\n",
        "    </tr>\n",
        "    <tr>\n",
        "        <td>A Portrait of the Artist as a Young Man</td>\n",
        "        <td>Marie-Ad\u00e9la\u00efde</td>\n",
        "    </tr>\n",
        "    <tr>\n",
        "        <td>Lolita</td>\n",
        "        <td>Charlotte</td>\n",
        "    </tr>\n",
        "    <tr>\n",
        "        <td>Brave New World</td>\n",
        "        <td>Charlotte</td>\n",
        "    </tr>\n",
        "    <tr>\n",
        "        <td>The Sound and the Fury</td>\n",
        "        <td>Charlotte</td>\n",
        "    </tr>\n",
        "    <tr>\n",
        "        <td>Catch-22</td>\n",
        "        <td>Charlotte</td>\n",
        "    </tr>\n",
        "    <tr>\n",
        "        <td>Darkness at Noon</td>\n",
        "        <td>Charlotte</td>\n",
        "    </tr>\n",
        "    <tr>\n",
        "        <td>Ulysses</td>\n",
        "        <td>Charlotte</td>\n",
        "    </tr>\n",
        "    <tr>\n",
        "        <td>The Grapes of Wrath</td>\n",
        "        <td>Charlotte</td>\n",
        "    </tr>\n",
        "    <tr>\n",
        "        <td>The Great Gatsby</td>\n",
        "        <td>Charlotte</td>\n",
        "    </tr>\n",
        "</table>"
       ],
       "metadata": {},
       "output_type": "pyout",
       "prompt_number": 7,
       "text": [
        "[('Sons and Lovers', 'Marie-Ad\u00e9la\u00efde'),\n",
        " ('A Portrait of the Artist as a Young Man', 'Marie-Ad\u00e9la\u00efde'),\n",
        " ('Lolita', 'Charlotte'),\n",
        " ('Brave New World', 'Charlotte'),\n",
        " ('The Sound and the Fury', 'Charlotte'),\n",
        " ('Catch-22', 'Charlotte'),\n",
        " ('Darkness at Noon', 'Charlotte'),\n",
        " ('Ulysses', 'Charlotte'),\n",
        " ('The Grapes of Wrath', 'Charlotte'),\n",
        " ('The Great Gatsby', 'Charlotte')]"
       ]
      }
     ],
     "prompt_number": 7
    },
    {
     "cell_type": "heading",
     "level": 1,
     "metadata": {
      "internals": {
       "frag_helper": "fragment_end",
       "frag_number": 9,
       "slide_helper": "subslide_end",
       "slide_type": "subslide"
      },
      "slide_helper": "slide_end",
      "slideshow": {
       "slide_type": "slide"
      }
     },
     "source": [
      "PostgreSQL Range Types"
     ]
    },
    {
     "cell_type": "code",
     "collapsed": false,
     "input": [
      "%sql ALTER TABLE luxembourg ADD COLUMN reign tsrange;"
     ],
     "language": "python",
     "metadata": {
      "internals": {
       "frag_helper": "fragment_end",
       "frag_number": 9,
       "slide_type": "subslide"
      },
      "slideshow": {
       "slide_type": "slide"
      }
     },
     "outputs": [
      {
       "output_type": "stream",
       "stream": "stdout",
       "text": [
        "Done.\n"
       ]
      },
      {
       "metadata": {},
       "output_type": "pyout",
       "prompt_number": 8,
       "text": [
        "[]"
       ]
      }
     ],
     "prompt_number": 8
    },
    {
     "cell_type": "code",
     "collapsed": false,
     "input": [
      "%%sql\n",
      "WITH s AS (\n",
      "  SELECT name,\n",
      "         LAG(reign_ends) OVER (ORDER BY reign_ends) AS reign_begins\n",
      "  FROM   luxembourg)\n",
      "UPDATE luxembourg l\n",
      "SET    reign = tsrange(s.reign_begins, l.reign_ends, '[)')\n",
      "FROM   s\n",
      "WHERE  l.name = s.name"
     ],
     "language": "python",
     "metadata": {
      "internals": {
       "frag_helper": "fragment_end",
       "frag_number": 13,
       "slide_helper": "subslide_end"
      },
      "slide_helper": "subslide_end",
      "slideshow": {
       "slide_type": "fragment"
      }
     },
     "outputs": [
      {
       "output_type": "stream",
       "stream": "stdout",
       "text": [
        "6 rows affected.\n"
       ]
      },
      {
       "metadata": {},
       "output_type": "pyout",
       "prompt_number": 9,
       "text": [
        "[]"
       ]
      }
     ],
     "prompt_number": 9
    },
    {
     "cell_type": "code",
     "collapsed": false,
     "input": [
      "%sql SELECT * FROM luxembourg"
     ],
     "language": "python",
     "metadata": {
      "internals": {
       "frag_helper": "fragment_end",
       "frag_number": 13,
       "slide_helper": "subslide_end",
       "slide_type": "subslide"
      },
      "slide_helper": "subslide_end",
      "slideshow": {
       "slide_type": "subslide"
      }
     },
     "outputs": [
      {
       "output_type": "stream",
       "stream": "stdout",
       "text": [
        "6 rows affected.\n"
       ]
      },
      {
       "html": [
        "<table>\n",
        "    <tr>\n",
        "        <th>name</th>\n",
        "        <th>reign_ends</th>\n",
        "        <th>reign</th>\n",
        "    </tr>\n",
        "    <tr>\n",
        "        <td>Adolphe</td>\n",
        "        <td>1905-11-17 00:00:00</td>\n",
        "        <td>DateTimeRange(None, datetime.datetime(1905, 11, 17, 0, 0), &#x27;()&#x27;)</td>\n",
        "    </tr>\n",
        "    <tr>\n",
        "        <td>Guillaume IV</td>\n",
        "        <td>1912-02-25 00:00:00</td>\n",
        "        <td>DateTimeRange(datetime.datetime(1905, 11, 17, 0, 0), datetime.datetime(1912, 2, 25, 0, 0), &#x27;[)&#x27;)</td>\n",
        "    </tr>\n",
        "    <tr>\n",
        "        <td>Marie-Ad\u00e9la\u00efde</td>\n",
        "        <td>1919-01-14 00:00:00</td>\n",
        "        <td>DateTimeRange(datetime.datetime(1912, 2, 25, 0, 0), datetime.datetime(1919, 1, 14, 0, 0), &#x27;[)&#x27;)</td>\n",
        "    </tr>\n",
        "    <tr>\n",
        "        <td>Charlotte</td>\n",
        "        <td>1964-11-12 00:00:00</td>\n",
        "        <td>DateTimeRange(datetime.datetime(1919, 1, 14, 0, 0), datetime.datetime(1964, 11, 12, 0, 0), &#x27;[)&#x27;)</td>\n",
        "    </tr>\n",
        "    <tr>\n",
        "        <td>Jean</td>\n",
        "        <td>2000-10-07 00:00:00</td>\n",
        "        <td>DateTimeRange(datetime.datetime(1964, 11, 12, 0, 0), datetime.datetime(2000, 10, 7, 0, 0), &#x27;[)&#x27;)</td>\n",
        "    </tr>\n",
        "    <tr>\n",
        "        <td>Henri</td>\n",
        "        <td>None</td>\n",
        "        <td>DateTimeRange(datetime.datetime(2000, 10, 7, 0, 0), None, &#x27;[)&#x27;)</td>\n",
        "    </tr>\n",
        "</table>"
       ],
       "metadata": {},
       "output_type": "pyout",
       "prompt_number": 10,
       "text": [
        "[('Adolphe', datetime.datetime(1905, 11, 17, 0, 0), DateTimeRange(None, datetime.datetime(1905, 11, 17, 0, 0), '()')),\n",
        " ('Guillaume IV', datetime.datetime(1912, 2, 25, 0, 0), DateTimeRange(datetime.datetime(1905, 11, 17, 0, 0), datetime.datetime(1912, 2, 25, 0, 0), '[)')),\n",
        " ('Marie-Ad\u00e9la\u00efde', datetime.datetime(1919, 1, 14, 0, 0), DateTimeRange(datetime.datetime(1912, 2, 25, 0, 0), datetime.datetime(1919, 1, 14, 0, 0), '[)')),\n",
        " ('Charlotte', datetime.datetime(1964, 11, 12, 0, 0), DateTimeRange(datetime.datetime(1919, 1, 14, 0, 0), datetime.datetime(1964, 11, 12, 0, 0), '[)')),\n",
        " ('Jean', datetime.datetime(2000, 10, 7, 0, 0), DateTimeRange(datetime.datetime(1964, 11, 12, 0, 0), datetime.datetime(2000, 10, 7, 0, 0), '[)')),\n",
        " ('Henri', None, DateTimeRange(datetime.datetime(2000, 10, 7, 0, 0), None, '[)'))]"
       ]
      }
     ],
     "prompt_number": 10
    },
    {
     "cell_type": "code",
     "collapsed": false,
     "input": [
      "%%sql\n",
      "SELECT  n.title,\n",
      "        l.name\n",
      "FROM    novels n, \n",
      "        luxembourg l\n",
      "WHERE   l.reign @> n.published;"
     ],
     "language": "python",
     "metadata": {
      "internals": {
       "frag_helper": "fragment_end",
       "frag_number": 13,
       "slide_helper": "subslide_end",
       "slide_type": "subslide"
      },
      "slide_helper": "subslide_end",
      "slideshow": {
       "slide_type": "subslide"
      }
     },
     "outputs": [
      {
       "output_type": "stream",
       "stream": "stdout",
       "text": [
        "10 rows affected.\n"
       ]
      },
      {
       "html": [
        "<table>\n",
        "    <tr>\n",
        "        <th>title</th>\n",
        "        <th>name</th>\n",
        "    </tr>\n",
        "    <tr>\n",
        "        <td>A Portrait of the Artist as a Young Man</td>\n",
        "        <td>Marie-Ad\u00e9la\u00efde</td>\n",
        "    </tr>\n",
        "    <tr>\n",
        "        <td>Sons and Lovers</td>\n",
        "        <td>Marie-Ad\u00e9la\u00efde</td>\n",
        "    </tr>\n",
        "    <tr>\n",
        "        <td>Ulysses</td>\n",
        "        <td>Charlotte</td>\n",
        "    </tr>\n",
        "    <tr>\n",
        "        <td>The Great Gatsby</td>\n",
        "        <td>Charlotte</td>\n",
        "    </tr>\n",
        "    <tr>\n",
        "        <td>Lolita</td>\n",
        "        <td>Charlotte</td>\n",
        "    </tr>\n",
        "    <tr>\n",
        "        <td>Brave New World</td>\n",
        "        <td>Charlotte</td>\n",
        "    </tr>\n",
        "    <tr>\n",
        "        <td>The Sound and the Fury</td>\n",
        "        <td>Charlotte</td>\n",
        "    </tr>\n",
        "    <tr>\n",
        "        <td>Catch-22</td>\n",
        "        <td>Charlotte</td>\n",
        "    </tr>\n",
        "    <tr>\n",
        "        <td>Darkness at Noon</td>\n",
        "        <td>Charlotte</td>\n",
        "    </tr>\n",
        "    <tr>\n",
        "        <td>The Grapes of Wrath</td>\n",
        "        <td>Charlotte</td>\n",
        "    </tr>\n",
        "</table>"
       ],
       "metadata": {},
       "output_type": "pyout",
       "prompt_number": 11,
       "text": [
        "[('A Portrait of the Artist as a Young Man', 'Marie-Ad\u00e9la\u00efde'),\n",
        " ('Sons and Lovers', 'Marie-Ad\u00e9la\u00efde'),\n",
        " ('Ulysses', 'Charlotte'),\n",
        " ('The Great Gatsby', 'Charlotte'),\n",
        " ('Lolita', 'Charlotte'),\n",
        " ('Brave New World', 'Charlotte'),\n",
        " ('The Sound and the Fury', 'Charlotte'),\n",
        " ('Catch-22', 'Charlotte'),\n",
        " ('Darkness at Noon', 'Charlotte'),\n",
        " ('The Grapes of Wrath', 'Charlotte')]"
       ]
      }
     ],
     "prompt_number": 11
    },
    {
     "cell_type": "code",
     "collapsed": false,
     "input": [
      "%%sql    \n",
      "ALTER TABLE luxembourg  \n",
      "ADD CONSTRAINT one_sovreign \n",
      "  EXCLUDE USING gist (reign WITH &&)"
     ],
     "language": "python",
     "metadata": {
      "internals": {
       "frag_helper": "fragment_end",
       "frag_number": 13,
       "slide_type": "subslide"
      },
      "slideshow": {
       "slide_type": "subslide"
      }
     },
     "outputs": [
      {
       "output_type": "stream",
       "stream": "stdout",
       "text": [
        "Done.\n"
       ]
      },
      {
       "metadata": {},
       "output_type": "pyout",
       "prompt_number": 12,
       "text": [
        "[]"
       ]
      }
     ],
     "prompt_number": 12
    },
    {
     "cell_type": "code",
     "collapsed": false,
     "input": [
      "%%sql\n",
      "INSERT INTO luxembourg (name, reign_ends, reign)\n",
      "VALUES ('Catherine', '2000-08-01', '[1995-09-01, 2000-08-01)')"
     ],
     "language": "python",
     "metadata": {
      "internals": {
       "frag_helper": "fragment_end",
       "frag_number": 17,
       "slide_helper": "subslide_end"
      },
      "slide_helper": "slide_end",
      "slideshow": {
       "slide_type": "fragment"
      }
     },
     "outputs": [
      {
       "ename": "IntegrityError",
       "evalue": "(IntegrityError) conflicting key value violates exclusion constraint \"one_sovreign\"\nDETAIL:  Key (reign)=([\"1995-09-01 00:00:00\",\"2000-08-01 00:00:00\")) conflicts with existing key (reign)=([\"1964-11-12 00:00:00\",\"2000-10-07 00:00:00\")).\n \"INSERT INTO luxembourg (name, reign_ends, reign)\\nVALUES ('Catherine', '2000-08-01', '[1995-09-01, 2000-08-01)')\" {}",
       "output_type": "pyerr",
       "traceback": [
        "\u001b[1;31m---------------------------------------------------------------------------\u001b[0m\n\u001b[1;31mIntegrityError\u001b[0m                            Traceback (most recent call last)",
        "\u001b[1;32m<ipython-input-13-eb560d32868f>\u001b[0m in \u001b[0;36m<module>\u001b[1;34m()\u001b[0m\n\u001b[1;32m----> 1\u001b[1;33m \u001b[0mget_ipython\u001b[0m\u001b[1;33m(\u001b[0m\u001b[1;33m)\u001b[0m\u001b[1;33m.\u001b[0m\u001b[0mrun_cell_magic\u001b[0m\u001b[1;33m(\u001b[0m\u001b[1;34m'sql'\u001b[0m\u001b[1;33m,\u001b[0m \u001b[1;34m''\u001b[0m\u001b[1;33m,\u001b[0m \u001b[1;34m\"INSERT INTO luxembourg (name, reign_ends, reign)\\nVALUES ('Catherine', '2000-08-01', '[1995-09-01, 2000-08-01)')\"\u001b[0m\u001b[1;33m)\u001b[0m\u001b[1;33m\u001b[0m\u001b[0m\n\u001b[0m",
        "\u001b[1;32m/home/catherine/ve/pgo/lib/python3.4/site-packages/IPython/core/interactiveshell.py\u001b[0m in \u001b[0;36mrun_cell_magic\u001b[1;34m(self, magic_name, line, cell)\u001b[0m\n\u001b[0;32m   2160\u001b[0m             \u001b[0mmagic_arg_s\u001b[0m \u001b[1;33m=\u001b[0m \u001b[0mself\u001b[0m\u001b[1;33m.\u001b[0m\u001b[0mvar_expand\u001b[0m\u001b[1;33m(\u001b[0m\u001b[0mline\u001b[0m\u001b[1;33m,\u001b[0m \u001b[0mstack_depth\u001b[0m\u001b[1;33m)\u001b[0m\u001b[1;33m\u001b[0m\u001b[0m\n\u001b[0;32m   2161\u001b[0m             \u001b[1;32mwith\u001b[0m \u001b[0mself\u001b[0m\u001b[1;33m.\u001b[0m\u001b[0mbuiltin_trap\u001b[0m\u001b[1;33m:\u001b[0m\u001b[1;33m\u001b[0m\u001b[0m\n\u001b[1;32m-> 2162\u001b[1;33m                 \u001b[0mresult\u001b[0m \u001b[1;33m=\u001b[0m \u001b[0mfn\u001b[0m\u001b[1;33m(\u001b[0m\u001b[0mmagic_arg_s\u001b[0m\u001b[1;33m,\u001b[0m \u001b[0mcell\u001b[0m\u001b[1;33m)\u001b[0m\u001b[1;33m\u001b[0m\u001b[0m\n\u001b[0m\u001b[0;32m   2163\u001b[0m             \u001b[1;32mreturn\u001b[0m \u001b[0mresult\u001b[0m\u001b[1;33m\u001b[0m\u001b[0m\n\u001b[0;32m   2164\u001b[0m \u001b[1;33m\u001b[0m\u001b[0m\n",
        "\u001b[1;32m/home/catherine/ve/pgo/lib/python3.4/site-packages/sql/magic.py\u001b[0m in \u001b[0;36mexecute\u001b[1;34m(self, line, cell, local_ns)\u001b[0m\n",
        "\u001b[1;32m/home/catherine/ve/pgo/lib/python3.4/site-packages/IPython/core/magic.py\u001b[0m in \u001b[0;36m<lambda>\u001b[1;34m(f, *a, **k)\u001b[0m\n\u001b[0;32m    191\u001b[0m     \u001b[1;31m# but it's overkill for just that one bit of state.\u001b[0m\u001b[1;33m\u001b[0m\u001b[1;33m\u001b[0m\u001b[0m\n\u001b[0;32m    192\u001b[0m     \u001b[1;32mdef\u001b[0m \u001b[0mmagic_deco\u001b[0m\u001b[1;33m(\u001b[0m\u001b[0marg\u001b[0m\u001b[1;33m)\u001b[0m\u001b[1;33m:\u001b[0m\u001b[1;33m\u001b[0m\u001b[0m\n\u001b[1;32m--> 193\u001b[1;33m         \u001b[0mcall\u001b[0m \u001b[1;33m=\u001b[0m \u001b[1;32mlambda\u001b[0m \u001b[0mf\u001b[0m\u001b[1;33m,\u001b[0m \u001b[1;33m*\u001b[0m\u001b[0ma\u001b[0m\u001b[1;33m,\u001b[0m \u001b[1;33m**\u001b[0m\u001b[0mk\u001b[0m\u001b[1;33m:\u001b[0m \u001b[0mf\u001b[0m\u001b[1;33m(\u001b[0m\u001b[1;33m*\u001b[0m\u001b[0ma\u001b[0m\u001b[1;33m,\u001b[0m \u001b[1;33m**\u001b[0m\u001b[0mk\u001b[0m\u001b[1;33m)\u001b[0m\u001b[1;33m\u001b[0m\u001b[0m\n\u001b[0m\u001b[0;32m    194\u001b[0m \u001b[1;33m\u001b[0m\u001b[0m\n\u001b[0;32m    195\u001b[0m         \u001b[1;32mif\u001b[0m \u001b[0mcallable\u001b[0m\u001b[1;33m(\u001b[0m\u001b[0marg\u001b[0m\u001b[1;33m)\u001b[0m\u001b[1;33m:\u001b[0m\u001b[1;33m\u001b[0m\u001b[0m\n",
        "\u001b[1;32m/home/catherine/ve/pgo/lib/python3.4/site-packages/sql/magic.py\u001b[0m in \u001b[0;36mexecute\u001b[1;34m(self, line, cell, local_ns)\u001b[0m\n",
        "\u001b[1;32m/home/catherine/ve/pgo/lib/python3.4/site-packages/IPython/core/magic.py\u001b[0m in \u001b[0;36m<lambda>\u001b[1;34m(f, *a, **k)\u001b[0m\n\u001b[0;32m    191\u001b[0m     \u001b[1;31m# but it's overkill for just that one bit of state.\u001b[0m\u001b[1;33m\u001b[0m\u001b[1;33m\u001b[0m\u001b[0m\n\u001b[0;32m    192\u001b[0m     \u001b[1;32mdef\u001b[0m \u001b[0mmagic_deco\u001b[0m\u001b[1;33m(\u001b[0m\u001b[0marg\u001b[0m\u001b[1;33m)\u001b[0m\u001b[1;33m:\u001b[0m\u001b[1;33m\u001b[0m\u001b[0m\n\u001b[1;32m--> 193\u001b[1;33m         \u001b[0mcall\u001b[0m \u001b[1;33m=\u001b[0m \u001b[1;32mlambda\u001b[0m \u001b[0mf\u001b[0m\u001b[1;33m,\u001b[0m \u001b[1;33m*\u001b[0m\u001b[0ma\u001b[0m\u001b[1;33m,\u001b[0m \u001b[1;33m**\u001b[0m\u001b[0mk\u001b[0m\u001b[1;33m:\u001b[0m \u001b[0mf\u001b[0m\u001b[1;33m(\u001b[0m\u001b[1;33m*\u001b[0m\u001b[0ma\u001b[0m\u001b[1;33m,\u001b[0m \u001b[1;33m**\u001b[0m\u001b[0mk\u001b[0m\u001b[1;33m)\u001b[0m\u001b[1;33m\u001b[0m\u001b[0m\n\u001b[0m\u001b[0;32m    194\u001b[0m \u001b[1;33m\u001b[0m\u001b[0m\n\u001b[0;32m    195\u001b[0m         \u001b[1;32mif\u001b[0m \u001b[0mcallable\u001b[0m\u001b[1;33m(\u001b[0m\u001b[0marg\u001b[0m\u001b[1;33m)\u001b[0m\u001b[1;33m:\u001b[0m\u001b[1;33m\u001b[0m\u001b[0m\n",
        "\u001b[1;32m/home/catherine/ve/pgo/lib/python3.4/site-packages/sql/magic.py\u001b[0m in \u001b[0;36mexecute\u001b[1;34m(self, line, cell, local_ns)\u001b[0m\n\u001b[0;32m     78\u001b[0m             \u001b[1;32mreturn\u001b[0m \u001b[0mself\u001b[0m\u001b[1;33m.\u001b[0m\u001b[0m_persist_dataframe\u001b[0m\u001b[1;33m(\u001b[0m\u001b[0mparsed\u001b[0m\u001b[1;33m[\u001b[0m\u001b[1;34m'sql'\u001b[0m\u001b[1;33m]\u001b[0m\u001b[1;33m,\u001b[0m \u001b[0mconn\u001b[0m\u001b[1;33m,\u001b[0m \u001b[0muser_ns\u001b[0m\u001b[1;33m)\u001b[0m\u001b[1;33m\u001b[0m\u001b[0m\n\u001b[0;32m     79\u001b[0m         \u001b[1;32mtry\u001b[0m\u001b[1;33m:\u001b[0m\u001b[1;33m\u001b[0m\u001b[0m\n\u001b[1;32m---> 80\u001b[1;33m             \u001b[0mresult\u001b[0m \u001b[1;33m=\u001b[0m \u001b[0msql\u001b[0m\u001b[1;33m.\u001b[0m\u001b[0mrun\u001b[0m\u001b[1;33m.\u001b[0m\u001b[0mrun\u001b[0m\u001b[1;33m(\u001b[0m\u001b[0mconn\u001b[0m\u001b[1;33m,\u001b[0m \u001b[0mparsed\u001b[0m\u001b[1;33m[\u001b[0m\u001b[1;34m'sql'\u001b[0m\u001b[1;33m]\u001b[0m\u001b[1;33m,\u001b[0m \u001b[0mself\u001b[0m\u001b[1;33m,\u001b[0m \u001b[0muser_ns\u001b[0m\u001b[1;33m)\u001b[0m\u001b[1;33m\u001b[0m\u001b[0m\n\u001b[0m\u001b[0;32m     81\u001b[0m             \u001b[1;32mreturn\u001b[0m \u001b[0mresult\u001b[0m\u001b[1;33m\u001b[0m\u001b[0m\n\u001b[0;32m     82\u001b[0m         \u001b[1;32mexcept\u001b[0m \u001b[1;33m(\u001b[0m\u001b[0mProgrammingError\u001b[0m\u001b[1;33m,\u001b[0m \u001b[0mOperationalError\u001b[0m\u001b[1;33m)\u001b[0m \u001b[1;32mas\u001b[0m \u001b[0me\u001b[0m\u001b[1;33m:\u001b[0m\u001b[1;33m\u001b[0m\u001b[0m\n",
        "\u001b[1;32m/home/catherine/ve/pgo/lib/python3.4/site-packages/sql/run.py\u001b[0m in \u001b[0;36mrun\u001b[1;34m(conn, sql, config, user_namespace)\u001b[0m\n\u001b[0;32m    243\u001b[0m         \u001b[1;32mfor\u001b[0m \u001b[0mstatement\u001b[0m \u001b[1;32min\u001b[0m \u001b[0msqlparse\u001b[0m\u001b[1;33m.\u001b[0m\u001b[0msplit\u001b[0m\u001b[1;33m(\u001b[0m\u001b[0msql\u001b[0m\u001b[1;33m)\u001b[0m\u001b[1;33m:\u001b[0m\u001b[1;33m\u001b[0m\u001b[0m\n\u001b[0;32m    244\u001b[0m             \u001b[0mtxt\u001b[0m \u001b[1;33m=\u001b[0m \u001b[0msqlalchemy\u001b[0m\u001b[1;33m.\u001b[0m\u001b[0msql\u001b[0m\u001b[1;33m.\u001b[0m\u001b[0mtext\u001b[0m\u001b[1;33m(\u001b[0m\u001b[0mstatement\u001b[0m\u001b[1;33m)\u001b[0m\u001b[1;33m\u001b[0m\u001b[0m\n\u001b[1;32m--> 245\u001b[1;33m             \u001b[0mresult\u001b[0m \u001b[1;33m=\u001b[0m \u001b[0mconn\u001b[0m\u001b[1;33m.\u001b[0m\u001b[0msession\u001b[0m\u001b[1;33m.\u001b[0m\u001b[0mexecute\u001b[0m\u001b[1;33m(\u001b[0m\u001b[0mtxt\u001b[0m\u001b[1;33m,\u001b[0m \u001b[0muser_namespace\u001b[0m\u001b[1;33m)\u001b[0m\u001b[1;33m\u001b[0m\u001b[0m\n\u001b[0m\u001b[0;32m    246\u001b[0m             \u001b[1;32mif\u001b[0m \u001b[0mresult\u001b[0m \u001b[1;32mand\u001b[0m \u001b[0mconfig\u001b[0m\u001b[1;33m.\u001b[0m\u001b[0mfeedback\u001b[0m\u001b[1;33m:\u001b[0m\u001b[1;33m\u001b[0m\u001b[0m\n\u001b[0;32m    247\u001b[0m                 \u001b[0mprint\u001b[0m\u001b[1;33m(\u001b[0m\u001b[0minterpret_rowcount\u001b[0m\u001b[1;33m(\u001b[0m\u001b[0mresult\u001b[0m\u001b[1;33m.\u001b[0m\u001b[0mrowcount\u001b[0m\u001b[1;33m)\u001b[0m\u001b[1;33m)\u001b[0m\u001b[1;33m\u001b[0m\u001b[0m\n",
        "\u001b[1;32m/home/catherine/ve/pgo/lib/python3.4/site-packages/sqlalchemy/engine/base.py\u001b[0m in \u001b[0;36mexecute\u001b[1;34m(self, object, *multiparams, **params)\u001b[0m\n\u001b[0;32m    727\u001b[0m                 type(object))\n\u001b[0;32m    728\u001b[0m         \u001b[1;32melse\u001b[0m\u001b[1;33m:\u001b[0m\u001b[1;33m\u001b[0m\u001b[0m\n\u001b[1;32m--> 729\u001b[1;33m             \u001b[1;32mreturn\u001b[0m \u001b[0mmeth\u001b[0m\u001b[1;33m(\u001b[0m\u001b[0mself\u001b[0m\u001b[1;33m,\u001b[0m \u001b[0mmultiparams\u001b[0m\u001b[1;33m,\u001b[0m \u001b[0mparams\u001b[0m\u001b[1;33m)\u001b[0m\u001b[1;33m\u001b[0m\u001b[0m\n\u001b[0m\u001b[0;32m    730\u001b[0m \u001b[1;33m\u001b[0m\u001b[0m\n\u001b[0;32m    731\u001b[0m     \u001b[1;32mdef\u001b[0m \u001b[0m_execute_function\u001b[0m\u001b[1;33m(\u001b[0m\u001b[0mself\u001b[0m\u001b[1;33m,\u001b[0m \u001b[0mfunc\u001b[0m\u001b[1;33m,\u001b[0m \u001b[0mmultiparams\u001b[0m\u001b[1;33m,\u001b[0m \u001b[0mparams\u001b[0m\u001b[1;33m)\u001b[0m\u001b[1;33m:\u001b[0m\u001b[1;33m\u001b[0m\u001b[0m\n",
        "\u001b[1;32m/home/catherine/ve/pgo/lib/python3.4/site-packages/sqlalchemy/sql/elements.py\u001b[0m in \u001b[0;36m_execute_on_connection\u001b[1;34m(self, connection, multiparams, params)\u001b[0m\n\u001b[0;32m    319\u001b[0m \u001b[1;33m\u001b[0m\u001b[0m\n\u001b[0;32m    320\u001b[0m     \u001b[1;32mdef\u001b[0m \u001b[0m_execute_on_connection\u001b[0m\u001b[1;33m(\u001b[0m\u001b[0mself\u001b[0m\u001b[1;33m,\u001b[0m \u001b[0mconnection\u001b[0m\u001b[1;33m,\u001b[0m \u001b[0mmultiparams\u001b[0m\u001b[1;33m,\u001b[0m \u001b[0mparams\u001b[0m\u001b[1;33m)\u001b[0m\u001b[1;33m:\u001b[0m\u001b[1;33m\u001b[0m\u001b[0m\n\u001b[1;32m--> 321\u001b[1;33m         \u001b[1;32mreturn\u001b[0m \u001b[0mconnection\u001b[0m\u001b[1;33m.\u001b[0m\u001b[0m_execute_clauseelement\u001b[0m\u001b[1;33m(\u001b[0m\u001b[0mself\u001b[0m\u001b[1;33m,\u001b[0m \u001b[0mmultiparams\u001b[0m\u001b[1;33m,\u001b[0m \u001b[0mparams\u001b[0m\u001b[1;33m)\u001b[0m\u001b[1;33m\u001b[0m\u001b[0m\n\u001b[0m\u001b[0;32m    322\u001b[0m \u001b[1;33m\u001b[0m\u001b[0m\n\u001b[0;32m    323\u001b[0m     \u001b[1;32mdef\u001b[0m \u001b[0munique_params\u001b[0m\u001b[1;33m(\u001b[0m\u001b[0mself\u001b[0m\u001b[1;33m,\u001b[0m \u001b[1;33m*\u001b[0m\u001b[0moptionaldict\u001b[0m\u001b[1;33m,\u001b[0m \u001b[1;33m**\u001b[0m\u001b[0mkwargs\u001b[0m\u001b[1;33m)\u001b[0m\u001b[1;33m:\u001b[0m\u001b[1;33m\u001b[0m\u001b[0m\n",
        "\u001b[1;32m/home/catherine/ve/pgo/lib/python3.4/site-packages/sqlalchemy/engine/base.py\u001b[0m in \u001b[0;36m_execute_clauseelement\u001b[1;34m(self, elem, multiparams, params)\u001b[0m\n\u001b[0;32m    824\u001b[0m             \u001b[0mcompiled_sql\u001b[0m\u001b[1;33m,\u001b[0m\u001b[1;33m\u001b[0m\u001b[0m\n\u001b[0;32m    825\u001b[0m             \u001b[0mdistilled_params\u001b[0m\u001b[1;33m,\u001b[0m\u001b[1;33m\u001b[0m\u001b[0m\n\u001b[1;32m--> 826\u001b[1;33m             \u001b[0mcompiled_sql\u001b[0m\u001b[1;33m,\u001b[0m \u001b[0mdistilled_params\u001b[0m\u001b[1;33m\u001b[0m\u001b[0m\n\u001b[0m\u001b[0;32m    827\u001b[0m         )\n\u001b[0;32m    828\u001b[0m         \u001b[1;32mif\u001b[0m \u001b[0mself\u001b[0m\u001b[1;33m.\u001b[0m\u001b[0m_has_events\u001b[0m \u001b[1;32mor\u001b[0m \u001b[0mself\u001b[0m\u001b[1;33m.\u001b[0m\u001b[0mengine\u001b[0m\u001b[1;33m.\u001b[0m\u001b[0m_has_events\u001b[0m\u001b[1;33m:\u001b[0m\u001b[1;33m\u001b[0m\u001b[0m\n",
        "\u001b[1;32m/home/catherine/ve/pgo/lib/python3.4/site-packages/sqlalchemy/engine/base.py\u001b[0m in \u001b[0;36m_execute_context\u001b[1;34m(self, dialect, constructor, statement, parameters, *args)\u001b[0m\n\u001b[0;32m    956\u001b[0m                 \u001b[0mparameters\u001b[0m\u001b[1;33m,\u001b[0m\u001b[1;33m\u001b[0m\u001b[0m\n\u001b[0;32m    957\u001b[0m                 \u001b[0mcursor\u001b[0m\u001b[1;33m,\u001b[0m\u001b[1;33m\u001b[0m\u001b[0m\n\u001b[1;32m--> 958\u001b[1;33m                 context)\n\u001b[0m\u001b[0;32m    959\u001b[0m \u001b[1;33m\u001b[0m\u001b[0m\n\u001b[0;32m    960\u001b[0m         \u001b[1;32mif\u001b[0m \u001b[0mself\u001b[0m\u001b[1;33m.\u001b[0m\u001b[0m_has_events\u001b[0m \u001b[1;32mor\u001b[0m \u001b[0mself\u001b[0m\u001b[1;33m.\u001b[0m\u001b[0mengine\u001b[0m\u001b[1;33m.\u001b[0m\u001b[0m_has_events\u001b[0m\u001b[1;33m:\u001b[0m\u001b[1;33m\u001b[0m\u001b[0m\n",
        "\u001b[1;32m/home/catherine/ve/pgo/lib/python3.4/site-packages/sqlalchemy/engine/base.py\u001b[0m in \u001b[0;36m_handle_dbapi_exception\u001b[1;34m(self, e, statement, parameters, cursor, context)\u001b[0m\n\u001b[0;32m   1158\u001b[0m                 util.raise_from_cause(\n\u001b[0;32m   1159\u001b[0m                     \u001b[0msqlalchemy_exception\u001b[0m\u001b[1;33m,\u001b[0m\u001b[1;33m\u001b[0m\u001b[0m\n\u001b[1;32m-> 1160\u001b[1;33m                     \u001b[0mexc_info\u001b[0m\u001b[1;33m\u001b[0m\u001b[0m\n\u001b[0m\u001b[0;32m   1161\u001b[0m                 )\n\u001b[0;32m   1162\u001b[0m             \u001b[1;32melse\u001b[0m\u001b[1;33m:\u001b[0m\u001b[1;33m\u001b[0m\u001b[0m\n",
        "\u001b[1;32m/home/catherine/ve/pgo/lib/python3.4/site-packages/sqlalchemy/util/compat.py\u001b[0m in \u001b[0;36mraise_from_cause\u001b[1;34m(exception, exc_info)\u001b[0m\n\u001b[0;32m    186\u001b[0m             \u001b[0mexc_info\u001b[0m \u001b[1;33m=\u001b[0m \u001b[0msys\u001b[0m\u001b[1;33m.\u001b[0m\u001b[0mexc_info\u001b[0m\u001b[1;33m(\u001b[0m\u001b[1;33m)\u001b[0m\u001b[1;33m\u001b[0m\u001b[0m\n\u001b[0;32m    187\u001b[0m         \u001b[0mexc_type\u001b[0m\u001b[1;33m,\u001b[0m \u001b[0mexc_value\u001b[0m\u001b[1;33m,\u001b[0m \u001b[0mexc_tb\u001b[0m \u001b[1;33m=\u001b[0m \u001b[0mexc_info\u001b[0m\u001b[1;33m\u001b[0m\u001b[0m\n\u001b[1;32m--> 188\u001b[1;33m         \u001b[0mreraise\u001b[0m\u001b[1;33m(\u001b[0m\u001b[0mtype\u001b[0m\u001b[1;33m(\u001b[0m\u001b[0mexception\u001b[0m\u001b[1;33m)\u001b[0m\u001b[1;33m,\u001b[0m \u001b[0mexception\u001b[0m\u001b[1;33m,\u001b[0m \u001b[0mtb\u001b[0m\u001b[1;33m=\u001b[0m\u001b[0mexc_tb\u001b[0m\u001b[1;33m,\u001b[0m \u001b[0mcause\u001b[0m\u001b[1;33m=\u001b[0m\u001b[0mexc_value\u001b[0m\u001b[1;33m)\u001b[0m\u001b[1;33m\u001b[0m\u001b[0m\n\u001b[0m\u001b[0;32m    189\u001b[0m \u001b[1;32melse\u001b[0m\u001b[1;33m:\u001b[0m\u001b[1;33m\u001b[0m\u001b[0m\n\u001b[0;32m    190\u001b[0m     exec(\"def reraise(tp, value, tb=None, cause=None):\\n\"\n",
        "\u001b[1;32m/home/catherine/ve/pgo/lib/python3.4/site-packages/sqlalchemy/util/compat.py\u001b[0m in \u001b[0;36mreraise\u001b[1;34m(tp, value, tb, cause)\u001b[0m\n\u001b[0;32m    179\u001b[0m             \u001b[0mvalue\u001b[0m\u001b[1;33m.\u001b[0m\u001b[0m__cause__\u001b[0m \u001b[1;33m=\u001b[0m \u001b[0mcause\u001b[0m\u001b[1;33m\u001b[0m\u001b[0m\n\u001b[0;32m    180\u001b[0m         \u001b[1;32mif\u001b[0m \u001b[0mvalue\u001b[0m\u001b[1;33m.\u001b[0m\u001b[0m__traceback__\u001b[0m \u001b[1;32mis\u001b[0m \u001b[1;32mnot\u001b[0m \u001b[0mtb\u001b[0m\u001b[1;33m:\u001b[0m\u001b[1;33m\u001b[0m\u001b[0m\n\u001b[1;32m--> 181\u001b[1;33m             \u001b[1;32mraise\u001b[0m \u001b[0mvalue\u001b[0m\u001b[1;33m.\u001b[0m\u001b[0mwith_traceback\u001b[0m\u001b[1;33m(\u001b[0m\u001b[0mtb\u001b[0m\u001b[1;33m)\u001b[0m\u001b[1;33m\u001b[0m\u001b[0m\n\u001b[0m\u001b[0;32m    182\u001b[0m         \u001b[1;32mraise\u001b[0m \u001b[0mvalue\u001b[0m\u001b[1;33m\u001b[0m\u001b[0m\n\u001b[0;32m    183\u001b[0m \u001b[1;33m\u001b[0m\u001b[0m\n",
        "\u001b[1;32m/home/catherine/ve/pgo/lib/python3.4/site-packages/sqlalchemy/engine/base.py\u001b[0m in \u001b[0;36m_execute_context\u001b[1;34m(self, dialect, constructor, statement, parameters, *args)\u001b[0m\n\u001b[0;32m    949\u001b[0m                         \u001b[0mstatement\u001b[0m\u001b[1;33m,\u001b[0m\u001b[1;33m\u001b[0m\u001b[0m\n\u001b[0;32m    950\u001b[0m                         \u001b[0mparameters\u001b[0m\u001b[1;33m,\u001b[0m\u001b[1;33m\u001b[0m\u001b[0m\n\u001b[1;32m--> 951\u001b[1;33m                         context)\n\u001b[0m\u001b[0;32m    952\u001b[0m         \u001b[1;32mexcept\u001b[0m \u001b[0mException\u001b[0m \u001b[1;32mas\u001b[0m \u001b[0me\u001b[0m\u001b[1;33m:\u001b[0m\u001b[1;33m\u001b[0m\u001b[0m\n\u001b[0;32m    953\u001b[0m             self._handle_dbapi_exception(\n",
        "\u001b[1;32m/home/catherine/ve/pgo/lib/python3.4/site-packages/sqlalchemy/engine/default.py\u001b[0m in \u001b[0;36mdo_execute\u001b[1;34m(self, cursor, statement, parameters, context)\u001b[0m\n\u001b[0;32m    434\u001b[0m \u001b[1;33m\u001b[0m\u001b[0m\n\u001b[0;32m    435\u001b[0m     \u001b[1;32mdef\u001b[0m \u001b[0mdo_execute\u001b[0m\u001b[1;33m(\u001b[0m\u001b[0mself\u001b[0m\u001b[1;33m,\u001b[0m \u001b[0mcursor\u001b[0m\u001b[1;33m,\u001b[0m \u001b[0mstatement\u001b[0m\u001b[1;33m,\u001b[0m \u001b[0mparameters\u001b[0m\u001b[1;33m,\u001b[0m \u001b[0mcontext\u001b[0m\u001b[1;33m=\u001b[0m\u001b[1;32mNone\u001b[0m\u001b[1;33m)\u001b[0m\u001b[1;33m:\u001b[0m\u001b[1;33m\u001b[0m\u001b[0m\n\u001b[1;32m--> 436\u001b[1;33m         \u001b[0mcursor\u001b[0m\u001b[1;33m.\u001b[0m\u001b[0mexecute\u001b[0m\u001b[1;33m(\u001b[0m\u001b[0mstatement\u001b[0m\u001b[1;33m,\u001b[0m \u001b[0mparameters\u001b[0m\u001b[1;33m)\u001b[0m\u001b[1;33m\u001b[0m\u001b[0m\n\u001b[0m\u001b[0;32m    437\u001b[0m \u001b[1;33m\u001b[0m\u001b[0m\n\u001b[0;32m    438\u001b[0m     \u001b[1;32mdef\u001b[0m \u001b[0mdo_execute_no_params\u001b[0m\u001b[1;33m(\u001b[0m\u001b[0mself\u001b[0m\u001b[1;33m,\u001b[0m \u001b[0mcursor\u001b[0m\u001b[1;33m,\u001b[0m \u001b[0mstatement\u001b[0m\u001b[1;33m,\u001b[0m \u001b[0mcontext\u001b[0m\u001b[1;33m=\u001b[0m\u001b[1;32mNone\u001b[0m\u001b[1;33m)\u001b[0m\u001b[1;33m:\u001b[0m\u001b[1;33m\u001b[0m\u001b[0m\n",
        "\u001b[1;31mIntegrityError\u001b[0m: (IntegrityError) conflicting key value violates exclusion constraint \"one_sovreign\"\nDETAIL:  Key (reign)=([\"1995-09-01 00:00:00\",\"2000-08-01 00:00:00\")) conflicts with existing key (reign)=([\"1964-11-12 00:00:00\",\"2000-10-07 00:00:00\")).\n \"INSERT INTO luxembourg (name, reign_ends, reign)\\nVALUES ('Catherine', '2000-08-01', '[1995-09-01, 2000-08-01)')\" {}"
       ]
      }
     ],
     "prompt_number": 13
    },
    {
     "cell_type": "heading",
     "level": 1,
     "metadata": {
      "internals": {
       "frag_helper": "fragment_end",
       "frag_number": 17,
       "slide_helper": "subslide_end",
       "slide_type": "subslide"
      },
      "slide_helper": "subslide_end",
      "slideshow": {
       "slide_type": "slide"
      }
     },
     "source": [
      "JSON"
     ]
    },
    {
     "cell_type": "code",
     "collapsed": false,
     "input": [
      "%%sql \n",
      "DROP TABLE IF EXISTS family;\n",
      "CREATE TABLE family (id SERIAL PRIMARY KEY, tree JSON NOT NULL);\n",
      "INSERT INTO family (tree) VALUES ('\n",
      "  {\"rank\": \"Prince\",\n",
      "   \"name\": \"Louis\",\n",
      "   \"born\": \"3 Aug 1986\",\n",
      "   \"children\": [\n",
      "     {\"rank\": \"Prince\", \"name\": \"Gabriel Michael Louis Ronny\", \"born\": \"12 Mar 2006\"},\n",
      "     {\"rank\": \"Prince\", \"name\": \"Noah Etienne Guillaume Gabriel Matthias Xavier\", \"born\": \"21 Sep 2007\"}\n",
      "   ]\n",
      "   }');\n",
      "INSERT INTO family (tree) VALUES ('\n",
      "  {\"rank\": \"Princess\",\n",
      "   \"name\": \"Alexandra\",\n",
      "   \"born\": \"16 Feb 1991\"\n",
      "   }');                                 "
     ],
     "language": "python",
     "metadata": {
      "internals": {
       "frag_helper": "fragment_end",
       "frag_number": 17,
       "slide_helper": "subslide_end",
       "slide_type": "subslide"
      },
      "slide_helper": "subslide_end",
      "slideshow": {
       "slide_type": "subslide"
      }
     },
     "outputs": [
      {
       "output_type": "stream",
       "stream": "stdout",
       "text": [
        "Done.\n",
        "Done.\n",
        "1 rows affected.\n",
        "1 rows affected.\n"
       ]
      },
      {
       "metadata": {},
       "output_type": "pyout",
       "prompt_number": 14,
       "text": [
        "[]"
       ]
      }
     ],
     "prompt_number": 14
    },
    {
     "cell_type": "code",
     "collapsed": false,
     "input": [
      "%sql SELECT * FROM family"
     ],
     "language": "python",
     "metadata": {
      "internals": {
       "frag_helper": "fragment_end",
       "frag_number": 17,
       "slide_type": "subslide"
      },
      "slideshow": {
       "slide_type": "subslide"
      }
     },
     "outputs": [
      {
       "output_type": "stream",
       "stream": "stdout",
       "text": [
        "2 rows affected.\n"
       ]
      },
      {
       "html": [
        "<table>\n",
        "    <tr>\n",
        "        <th>id</th>\n",
        "        <th>tree</th>\n",
        "    </tr>\n",
        "    <tr>\n",
        "        <td>1</td>\n",
        "        <td>{&#x27;rank&#x27;: &#x27;Prince&#x27;, &#x27;born&#x27;: &#x27;3 Aug 1986&#x27;, &#x27;name&#x27;: &#x27;Louis&#x27;, &#x27;children&#x27;: [{&#x27;rank&#x27;: &#x27;Prince&#x27;, &#x27;born&#x27;: &#x27;12 Mar 2006&#x27;, &#x27;name&#x27;: &#x27;Gabriel Michael Louis Ronny&#x27;}, {&#x27;rank&#x27;: &#x27;Prince&#x27;, &#x27;born&#x27;: &#x27;21 Sep 2007&#x27;, &#x27;name&#x27;: &#x27;Noah Etienne Guillaume Gabriel Matthias Xavier&#x27;}]}</td>\n",
        "    </tr>\n",
        "    <tr>\n",
        "        <td>2</td>\n",
        "        <td>{&#x27;rank&#x27;: &#x27;Princess&#x27;, &#x27;born&#x27;: &#x27;16 Feb 1991&#x27;, &#x27;name&#x27;: &#x27;Alexandra&#x27;}</td>\n",
        "    </tr>\n",
        "</table>"
       ],
       "metadata": {},
       "output_type": "pyout",
       "prompt_number": 15,
       "text": [
        "[(1, {'rank': 'Prince', 'born': '3 Aug 1986', 'name': 'Louis', 'children': [{'rank': 'Prince', 'born': '12 Mar 2006', 'name': 'Gabriel Michael Louis Ronny'}, {'rank': 'Prince', 'born': '21 Sep 2007', 'name': 'Noah Etienne Guillaume Gabriel Matthias Xavier'}]}),\n",
        " (2, {'rank': 'Princess', 'born': '16 Feb 1991', 'name': 'Alexandra'})]"
       ]
      }
     ],
     "prompt_number": 15
    },
    {
     "cell_type": "code",
     "collapsed": false,
     "input": [
      "%sql SELECT id, tree->'children'->1->'name' FROM family"
     ],
     "language": "python",
     "metadata": {
      "internals": {
       "frag_helper": "fragment_end",
       "frag_number": 21,
       "slide_helper": "subslide_end"
      },
      "slide_helper": "slide_end",
      "slideshow": {
       "slide_type": "fragment"
      }
     },
     "outputs": [
      {
       "output_type": "stream",
       "stream": "stdout",
       "text": [
        "2 rows affected.\n"
       ]
      },
      {
       "html": [
        "<table>\n",
        "    <tr>\n",
        "        <th>id</th>\n",
        "        <th>?column?</th>\n",
        "    </tr>\n",
        "    <tr>\n",
        "        <td>1</td>\n",
        "        <td>Noah Etienne Guillaume Gabriel Matthias Xavier</td>\n",
        "    </tr>\n",
        "    <tr>\n",
        "        <td>2</td>\n",
        "        <td>None</td>\n",
        "    </tr>\n",
        "</table>"
       ],
       "metadata": {},
       "output_type": "pyout",
       "prompt_number": 16,
       "text": [
        "[(1, 'Noah Etienne Guillaume Gabriel Matthias Xavier'), (2, None)]"
       ]
      }
     ],
     "prompt_number": 16
    },
    {
     "cell_type": "heading",
     "level": 1,
     "metadata": {
      "internals": {
       "frag_helper": "fragment_end",
       "frag_number": 21,
       "slide_helper": "subslide_end",
       "slide_type": "subslide"
      },
      "slide_helper": "subslide_end",
      "slideshow": {
       "slide_type": "slide"
      }
     },
     "source": [
      "Full Text Search"
     ]
    },
    {
     "cell_type": "code",
     "collapsed": false,
     "input": [
      "!ddlgenerator -d -i postgresql http://en.wikipedia.org/wiki/List_of_cities_in_Ohio | psql > /dev/null"
     ],
     "language": "python",
     "metadata": {
      "internals": {
       "frag_helper": "fragment_end",
       "frag_number": 21,
       "slide_type": "subslide"
      },
      "slideshow": {
       "slide_type": "subslide"
      }
     },
     "outputs": [
      {
       "output_type": "stream",
       "stream": "stdout",
       "text": [
        "NOTICE:  table \"list_of_cities_in_ohio\" does not exist, skipping\r\n"
       ]
      }
     ],
     "prompt_number": 17
    },
    {
     "cell_type": "code",
     "collapsed": false,
     "input": [
      "%%sql DROP TABLE IF EXISTS cities; \n",
      "ALTER TABLE list_of_cities_in_ohio RENAME TO cities"
     ],
     "language": "python",
     "metadata": {
      "internals": {
       "frag_helper": "fragment_end",
       "frag_number": 24
      },
      "slideshow": {
       "slide_type": "fragment"
      }
     },
     "outputs": [
      {
       "output_type": "stream",
       "stream": "stdout",
       "text": [
        "Done.\n",
        "Done.\n"
       ]
      },
      {
       "metadata": {},
       "output_type": "pyout",
       "prompt_number": 18,
       "text": [
        "[]"
       ]
      }
     ],
     "prompt_number": 18
    },
    {
     "cell_type": "code",
     "collapsed": false,
     "input": [
      "%sql SELECT * FROM cities LIMIT 5"
     ],
     "language": "python",
     "metadata": {
      "internals": {
       "frag_helper": "fragment_end",
       "frag_number": 25,
       "slide_helper": "subslide_end"
      },
      "slide_helper": "subslide_end",
      "slideshow": {
       "slide_type": "fragment"
      }
     },
     "outputs": [
      {
       "output_type": "stream",
       "stream": "stdout",
       "text": [
        "5 rows affected.\n"
       ]
      },
      {
       "html": [
        "<table>\n",
        "    <tr>\n",
        "        <th>city</th>\n",
        "        <th>population</th>\n",
        "        <th>county</th>\n",
        "    </tr>\n",
        "    <tr>\n",
        "        <td>Akron</td>\n",
        "        <td>199,110</td>\n",
        "        <td>Summit County</td>\n",
        "    </tr>\n",
        "    <tr>\n",
        "        <td>Alliance</td>\n",
        "        <td>22,322</td>\n",
        "        <td>Stark County and Mahoning County</td>\n",
        "    </tr>\n",
        "    <tr>\n",
        "        <td>Amherst</td>\n",
        "        <td>12,021</td>\n",
        "        <td>Lorain County</td>\n",
        "    </tr>\n",
        "    <tr>\n",
        "        <td>Ashland</td>\n",
        "        <td>20,362</td>\n",
        "        <td>Ashland County</td>\n",
        "    </tr>\n",
        "    <tr>\n",
        "        <td>Ashtabula</td>\n",
        "        <td>19,124</td>\n",
        "        <td>Ashtabula County</td>\n",
        "    </tr>\n",
        "</table>"
       ],
       "metadata": {},
       "output_type": "pyout",
       "prompt_number": 19,
       "text": [
        "[('Akron', '199,110', 'Summit County'),\n",
        " ('Alliance', '22,322', 'Stark County and Mahoning County'),\n",
        " ('Amherst', '12,021', 'Lorain County'),\n",
        " ('Ashland', '20,362', 'Ashland County'),\n",
        " ('Ashtabula', '19,124', 'Ashtabula County')]"
       ]
      }
     ],
     "prompt_number": 19
    },
    {
     "cell_type": "code",
     "collapsed": false,
     "input": [
      "%sql ALTER TABLE cities ADD COLUMN all_txt TSVECTOR"
     ],
     "language": "python",
     "metadata": {
      "internals": {
       "frag_helper": "fragment_end",
       "frag_number": 25,
       "slide_type": "subslide"
      },
      "slideshow": {
       "slide_type": "subslide"
      }
     },
     "outputs": [
      {
       "output_type": "stream",
       "stream": "stdout",
       "text": [
        "Done.\n"
       ]
      },
      {
       "metadata": {},
       "output_type": "pyout",
       "prompt_number": 20,
       "text": [
        "[]"
       ]
      }
     ],
     "prompt_number": 20
    },
    {
     "cell_type": "code",
     "collapsed": false,
     "input": [
      "%%sql\n",
      "UPDATE   cities\n",
      "SET      all_txt =    SETWEIGHT(TO_TSVECTOR(city), 'A') \n",
      "                   || SETWEIGHT(TO_TSVECTOR(county), 'B');"
     ],
     "language": "python",
     "metadata": {
      "internals": {
       "frag_helper": "fragment_end",
       "frag_number": 27
      },
      "slideshow": {
       "slide_type": "fragment"
      }
     },
     "outputs": [
      {
       "output_type": "stream",
       "stream": "stdout",
       "text": [
        "246 rows affected.\n"
       ]
      },
      {
       "metadata": {},
       "output_type": "pyout",
       "prompt_number": 21,
       "text": [
        "[]"
       ]
      }
     ],
     "prompt_number": 21
    },
    {
     "cell_type": "code",
     "collapsed": false,
     "input": [
      "%sql SELECT * FROM cities LIMIT 5"
     ],
     "language": "python",
     "metadata": {
      "internals": {
       "frag_helper": "fragment_end",
       "frag_number": 28,
       "slide_helper": "subslide_end"
      },
      "slide_helper": "subslide_end",
      "slideshow": {
       "slide_type": "fragment"
      }
     },
     "outputs": [
      {
       "output_type": "stream",
       "stream": "stdout",
       "text": [
        "5 rows affected.\n"
       ]
      },
      {
       "html": [
        "<table>\n",
        "    <tr>\n",
        "        <th>city</th>\n",
        "        <th>population</th>\n",
        "        <th>county</th>\n",
        "        <th>all_txt</th>\n",
        "    </tr>\n",
        "    <tr>\n",
        "        <td>Akron</td>\n",
        "        <td>199,110</td>\n",
        "        <td>Summit County</td>\n",
        "        <td>&#x27;akron&#x27;:1A &#x27;counti&#x27;:3B &#x27;summit&#x27;:2B</td>\n",
        "    </tr>\n",
        "    <tr>\n",
        "        <td>Alliance</td>\n",
        "        <td>22,322</td>\n",
        "        <td>Stark County and Mahoning County</td>\n",
        "        <td>&#x27;allianc&#x27;:1A &#x27;counti&#x27;:3B,6B &#x27;mahon&#x27;:5B &#x27;stark&#x27;:2B</td>\n",
        "    </tr>\n",
        "    <tr>\n",
        "        <td>Amherst</td>\n",
        "        <td>12,021</td>\n",
        "        <td>Lorain County</td>\n",
        "        <td>&#x27;amherst&#x27;:1A &#x27;counti&#x27;:3B &#x27;lorain&#x27;:2B</td>\n",
        "    </tr>\n",
        "    <tr>\n",
        "        <td>Ashland</td>\n",
        "        <td>20,362</td>\n",
        "        <td>Ashland County</td>\n",
        "        <td>&#x27;ashland&#x27;:1A,2B &#x27;counti&#x27;:3B</td>\n",
        "    </tr>\n",
        "    <tr>\n",
        "        <td>Ashtabula</td>\n",
        "        <td>19,124</td>\n",
        "        <td>Ashtabula County</td>\n",
        "        <td>&#x27;ashtabula&#x27;:1A,2B &#x27;counti&#x27;:3B</td>\n",
        "    </tr>\n",
        "</table>"
       ],
       "metadata": {},
       "output_type": "pyout",
       "prompt_number": 22,
       "text": [
        "[('Akron', '199,110', 'Summit County', \"'akron':1A 'counti':3B 'summit':2B\"),\n",
        " ('Alliance', '22,322', 'Stark County and Mahoning County', \"'allianc':1A 'counti':3B,6B 'mahon':5B 'stark':2B\"),\n",
        " ('Amherst', '12,021', 'Lorain County', \"'amherst':1A 'counti':3B 'lorain':2B\"),\n",
        " ('Ashland', '20,362', 'Ashland County', \"'ashland':1A,2B 'counti':3B\"),\n",
        " ('Ashtabula', '19,124', 'Ashtabula County', \"'ashtabula':1A,2B 'counti':3B\")]"
       ]
      }
     ],
     "prompt_number": 22
    },
    {
     "cell_type": "code",
     "collapsed": false,
     "input": [
      "%%sql \n",
      "SELECT city, population, county\n",
      "FROM   cities\n",
      "WHERE  all_txt @@ to_tsquery('montgomery')\n",
      "ORDER BY ts_rank(all_txt, to_tsquery('montgomery')) DESC, city"
     ],
     "language": "python",
     "metadata": {
      "internals": {
       "frag_helper": "fragment_end",
       "frag_number": 28,
       "slide_helper": "subslide_end",
       "slide_type": "subslide"
      },
      "slide_helper": "slide_end",
      "slideshow": {
       "slide_type": "subslide"
      }
     },
     "outputs": [
      {
       "output_type": "stream",
       "stream": "stdout",
       "text": [
        "18 rows affected.\n"
       ]
      },
      {
       "html": [
        "<table>\n",
        "    <tr>\n",
        "        <th>city</th>\n",
        "        <th>population</th>\n",
        "        <th>county</th>\n",
        "    </tr>\n",
        "    <tr>\n",
        "        <td>Montgomery</td>\n",
        "        <td>10,251</td>\n",
        "        <td>Hamilton County</td>\n",
        "    </tr>\n",
        "    <tr>\n",
        "        <td>Brookville</td>\n",
        "        <td>5,884</td>\n",
        "        <td>Montgomery County</td>\n",
        "    </tr>\n",
        "    <tr>\n",
        "        <td>Centerville</td>\n",
        "        <td>23,999</td>\n",
        "        <td>Montgomery County and Greene County</td>\n",
        "    </tr>\n",
        "    <tr>\n",
        "        <td>Clayton</td>\n",
        "        <td>13,209</td>\n",
        "        <td>Montgomery County and Miami County</td>\n",
        "    </tr>\n",
        "    <tr>\n",
        "        <td>Dayton</td>\n",
        "        <td>141,527</td>\n",
        "        <td>Montgomery County</td>\n",
        "    </tr>\n",
        "    <tr>\n",
        "        <td>Englewood</td>\n",
        "        <td>13,465</td>\n",
        "        <td>Montgomery County</td>\n",
        "    </tr>\n",
        "    <tr>\n",
        "        <td>Germantown</td>\n",
        "        <td>6,215</td>\n",
        "        <td>Montgomery County</td>\n",
        "    </tr>\n",
        "    <tr>\n",
        "        <td>Huber Heights</td>\n",
        "        <td>38,101</td>\n",
        "        <td>Montgomery County and Miami County</td>\n",
        "    </tr>\n",
        "    <tr>\n",
        "        <td>Kettering</td>\n",
        "        <td>56,163</td>\n",
        "        <td>Montgomery County and Greene County</td>\n",
        "    </tr>\n",
        "    <tr>\n",
        "        <td>Miamisburg</td>\n",
        "        <td>20,181</td>\n",
        "        <td>Montgomery County</td>\n",
        "    </tr>\n",
        "    <tr>\n",
        "        <td>Moraine</td>\n",
        "        <td>6,307</td>\n",
        "        <td>Montgomery County</td>\n",
        "    </tr>\n",
        "    <tr>\n",
        "        <td>Oakwood</td>\n",
        "        <td>9,202</td>\n",
        "        <td>Montgomery County</td>\n",
        "    </tr>\n",
        "    <tr>\n",
        "        <td>Riverside</td>\n",
        "        <td>25,201</td>\n",
        "        <td>Montgomery County</td>\n",
        "    </tr>\n",
        "    <tr>\n",
        "        <td>Springboro</td>\n",
        "        <td>17,409</td>\n",
        "        <td>Warren County and Montgomery County</td>\n",
        "    </tr>\n",
        "    <tr>\n",
        "        <td>Trotwood</td>\n",
        "        <td>24,431</td>\n",
        "        <td>Montgomery County</td>\n",
        "    </tr>\n",
        "    <tr>\n",
        "        <td>Union</td>\n",
        "        <td>6,419</td>\n",
        "        <td>Montgomery County and Miami County</td>\n",
        "    </tr>\n",
        "    <tr>\n",
        "        <td>Vandalia</td>\n",
        "        <td>15,246</td>\n",
        "        <td>Montgomery County</td>\n",
        "    </tr>\n",
        "    <tr>\n",
        "        <td>West Carrollton</td>\n",
        "        <td>13,143</td>\n",
        "        <td>Montgomery County</td>\n",
        "    </tr>\n",
        "</table>"
       ],
       "metadata": {},
       "output_type": "pyout",
       "prompt_number": 23,
       "text": [
        "[('Montgomery', '10,251', 'Hamilton County'),\n",
        " ('Brookville', '5,884', 'Montgomery County'),\n",
        " ('Centerville', '23,999', 'Montgomery County and Greene County'),\n",
        " ('Clayton', '13,209', 'Montgomery County and Miami County'),\n",
        " ('Dayton', '141,527', 'Montgomery County'),\n",
        " ('Englewood', '13,465', 'Montgomery County'),\n",
        " ('Germantown', '6,215', 'Montgomery County'),\n",
        " ('Huber Heights', '38,101', 'Montgomery County and Miami County'),\n",
        " ('Kettering', '56,163', 'Montgomery County and Greene County'),\n",
        " ('Miamisburg', '20,181', 'Montgomery County'),\n",
        " ('Moraine', '6,307', 'Montgomery County'),\n",
        " ('Oakwood', '9,202', 'Montgomery County'),\n",
        " ('Riverside', '25,201', 'Montgomery County'),\n",
        " ('Springboro', '17,409', 'Warren County and Montgomery County'),\n",
        " ('Trotwood', '24,431', 'Montgomery County'),\n",
        " ('Union', '6,419', 'Montgomery County and Miami County'),\n",
        " ('Vandalia', '15,246', 'Montgomery County'),\n",
        " ('West Carrollton', '13,143', 'Montgomery County')]"
       ]
      }
     ],
     "prompt_number": 23
    },
    {
     "cell_type": "heading",
     "level": 1,
     "metadata": {
      "internals": {
       "frag_helper": "fragment_end",
       "frag_number": 28,
       "slide_type": "subslide"
      },
      "slideshow": {
       "slide_type": "slide"
      }
     },
     "source": [
      "Not All Data Is In PostgreSQL."
     ]
    },
    {
     "cell_type": "markdown",
     "metadata": {
      "internals": {
       "frag_helper": "fragment_end",
       "frag_number": 31,
       "slide_helper": "subslide_end"
      },
      "slide_helper": "slide_end",
      "slideshow": {
       "slide_type": "fragment"
      }
     },
     "source": [
      "![PostgreSQL logo](postgresql_logo.png)"
     ]
    },
    {
     "cell_type": "heading",
     "level": 1,
     "metadata": {
      "internals": {
       "frag_helper": "fragment_end",
       "frag_number": 31,
       "slide_helper": "subslide_end",
       "slide_type": "subslide"
      },
      "slide_helper": "subslide_end",
      "slideshow": {
       "slide_type": "slide"
      }
     },
     "source": [
      "Foreign Data Wrappers"
     ]
    },
    {
     "cell_type": "code",
     "collapsed": false,
     "input": [
      "!sqlite3 movies.sqlite3 \"SELECT * FROM movies\""
     ],
     "language": "python",
     "metadata": {
      "internals": {
       "frag_helper": "fragment_end",
       "frag_number": 31,
       "slide_type": "subslide"
      },
      "slideshow": {
       "slide_type": "subslide"
      }
     },
     "outputs": [
      {
       "output_type": "stream",
       "stream": "stdout",
       "text": [
        "Star Wars|1977|Millenium Falcon\r\n",
        "Serenity|2005|Serenity\r\n",
        "20,000 Leagues Under the Sea|1954|Nautilus\r\n"
       ]
      }
     ],
     "prompt_number": 24
    },
    {
     "cell_type": "code",
     "collapsed": false,
     "input": [
      "!cat getships.js\n",
      "!mongo spaceships < getships.js"
     ],
     "language": "python",
     "metadata": {
      "internals": {
       "frag_helper": "fragment_end",
       "frag_number": 34
      },
      "slideshow": {
       "slide_type": "fragment"
      }
     },
     "outputs": [
      {
       "output_type": "stream",
       "stream": "stdout",
       "text": [
        "db.ships.find();\r\n"
       ]
      },
      {
       "output_type": "stream",
       "stream": "stdout",
       "text": [
        "MongoDB shell version: 2.4.9\r\n"
       ]
      },
      {
       "output_type": "stream",
       "stream": "stdout",
       "text": [
        "connecting to: spaceships\r\n",
        "{ \"_id\" : ObjectId(\"5447a3324807a74b0ff385ac\"), \"name\" : \"Millenium Falcon\", \"captain\" : \"Han Solo\" }\r\n",
        "{ \"_id\" : ObjectId(\"5447a47a4807a74b0ff385ad\"), \"name\" : \"Serenity\", \"captain\" : \"Mal Reynolds\" }\r\n",
        "{ \"_id\" : ObjectId(\"5447a4e14807a74b0ff385ae\"), \"name\" : \"Nautilus\", \"captain\" : \"Nemo\" }\r\n",
        "bye\r\n"
       ]
      }
     ],
     "prompt_number": 25
    },
    {
     "cell_type": "code",
     "collapsed": false,
     "input": [
      "!head -5 cast.csv"
     ],
     "language": "python",
     "metadata": {
      "internals": {
       "frag_helper": "fragment_end",
       "frag_number": 35,
       "slide_helper": "subslide_end"
      },
      "slide_helper": "subslide_end",
      "slideshow": {
       "slide_type": "fragment"
      }
     },
     "outputs": [
      {
       "output_type": "stream",
       "stream": "stdout",
       "text": [
        "Nathan Fillion,Mal Reynolds\r\n",
        "Jewel Staite,Kaylee Frye\r\n",
        "Adam Baldwin,Jayne Cobb\r\n",
        "Alan Tudyk,Hoban \"Wash\" Washburne\r\n",
        "Morena Baccarin,Inara Serra\r\n"
       ]
      }
     ],
     "prompt_number": 26
    },
    {
     "cell_type": "code",
     "collapsed": false,
     "input": [
      "%%sql\n",
      "DROP EXTENSION IF EXISTS file_fdw CASCADE;\n",
      "CREATE EXTENSION file_fdw;\n",
      "CREATE SERVER file_server FOREIGN DATA WRAPPER file_fdw;\n",
      "CREATE FOREIGN TABLE roles (actor TEXT, role TEXT)\n",
      "SERVER file_server OPTIONS (filename '/home/catherine/proj/postgresql-olf2014-lightning/cast.csv', \n",
      "                            format 'csv')"
     ],
     "language": "python",
     "metadata": {
      "internals": {
       "frag_helper": "fragment_end",
       "frag_number": 35,
       "slide_type": "subslide"
      },
      "slideshow": {
       "slide_type": "subslide"
      }
     },
     "outputs": [
      {
       "output_type": "stream",
       "stream": "stdout",
       "text": [
        "Done.\n",
        "Done.\n",
        "Done.\n",
        "Done.\n"
       ]
      },
      {
       "metadata": {},
       "output_type": "pyout",
       "prompt_number": 27,
       "text": [
        "[]"
       ]
      }
     ],
     "prompt_number": 27
    },
    {
     "cell_type": "code",
     "collapsed": false,
     "input": [
      "%sql SELECT * FROM roles LIMIT 5"
     ],
     "language": "python",
     "metadata": {
      "internals": {
       "frag_helper": "fragment_end",
       "frag_number": 37,
       "slide_helper": "subslide_end"
      },
      "slide_helper": "subslide_end",
      "slideshow": {
       "slide_type": "fragment"
      }
     },
     "outputs": [
      {
       "output_type": "stream",
       "stream": "stdout",
       "text": [
        "5 rows affected.\n"
       ]
      },
      {
       "html": [
        "<table>\n",
        "    <tr>\n",
        "        <th>actor</th>\n",
        "        <th>role</th>\n",
        "    </tr>\n",
        "    <tr>\n",
        "        <td>Nathan Fillion</td>\n",
        "        <td>Mal Reynolds</td>\n",
        "    </tr>\n",
        "    <tr>\n",
        "        <td>Jewel Staite</td>\n",
        "        <td>Kaylee Frye</td>\n",
        "    </tr>\n",
        "    <tr>\n",
        "        <td>Adam Baldwin</td>\n",
        "        <td>Jayne Cobb</td>\n",
        "    </tr>\n",
        "    <tr>\n",
        "        <td>Alan Tudyk</td>\n",
        "        <td>Hoban Wash Washburne</td>\n",
        "    </tr>\n",
        "    <tr>\n",
        "        <td>Morena Baccarin</td>\n",
        "        <td>Inara Serra</td>\n",
        "    </tr>\n",
        "</table>"
       ],
       "metadata": {},
       "output_type": "pyout",
       "prompt_number": 28,
       "text": [
        "[('Nathan Fillion', 'Mal Reynolds'),\n",
        " ('Jewel Staite', 'Kaylee Frye'),\n",
        " ('Adam Baldwin', 'Jayne Cobb'),\n",
        " ('Alan Tudyk', 'Hoban Wash Washburne'),\n",
        " ('Morena Baccarin', 'Inara Serra')]"
       ]
      }
     ],
     "prompt_number": 28
    },
    {
     "cell_type": "code",
     "collapsed": false,
     "input": [
      "%%sql\n",
      "DROP EXTENSION IF EXISTS mongo_fdw CASCADE;\n",
      "CREATE EXTENSION mongo_fdw;\n",
      "CREATE SERVER mongo_server FOREIGN DATA WRAPPER mongo_fdw;\n",
      "CREATE FOREIGN TABLE ships (name TEXT, captain TEXT) \n",
      "SERVER mongo_server OPTIONS (database 'spaceships', collection 'ships');"
     ],
     "language": "python",
     "metadata": {
      "internals": {
       "frag_helper": "fragment_end",
       "frag_number": 37,
       "slide_type": "subslide"
      },
      "slideshow": {
       "slide_type": "subslide"
      }
     },
     "outputs": [
      {
       "output_type": "stream",
       "stream": "stdout",
       "text": [
        "Done.\n",
        "Done.\n",
        "Done.\n",
        "Done.\n"
       ]
      },
      {
       "metadata": {},
       "output_type": "pyout",
       "prompt_number": 29,
       "text": [
        "[]"
       ]
      }
     ],
     "prompt_number": 29
    },
    {
     "cell_type": "code",
     "collapsed": false,
     "input": [
      "%sql SELECT * FROM ships"
     ],
     "language": "python",
     "metadata": {
      "internals": {
       "frag_helper": "fragment_end",
       "frag_number": 39,
       "slide_helper": "subslide_end"
      },
      "slide_helper": "subslide_end",
      "slideshow": {
       "slide_type": "fragment"
      }
     },
     "outputs": [
      {
       "output_type": "stream",
       "stream": "stdout",
       "text": [
        "3 rows affected.\n"
       ]
      },
      {
       "html": [
        "<table>\n",
        "    <tr>\n",
        "        <th>name</th>\n",
        "        <th>captain</th>\n",
        "    </tr>\n",
        "    <tr>\n",
        "        <td>Millenium Falcon</td>\n",
        "        <td>Han Solo</td>\n",
        "    </tr>\n",
        "    <tr>\n",
        "        <td>Serenity</td>\n",
        "        <td>Mal Reynolds</td>\n",
        "    </tr>\n",
        "    <tr>\n",
        "        <td>Nautilus</td>\n",
        "        <td>Nemo</td>\n",
        "    </tr>\n",
        "</table>"
       ],
       "metadata": {},
       "output_type": "pyout",
       "prompt_number": 30,
       "text": [
        "[('Millenium Falcon', 'Han Solo'),\n",
        " ('Serenity', 'Mal Reynolds'),\n",
        " ('Nautilus', 'Nemo')]"
       ]
      }
     ],
     "prompt_number": 30
    },
    {
     "cell_type": "code",
     "collapsed": false,
     "input": [
      "%%sql\n",
      "DROP EXTENSION IF EXISTS sqlite_fdw CASCADE;\n",
      "CREATE EXTENSION sqlite_fdw;\n",
      "CREATE SERVER sqlite_server FOREIGN DATA WRAPPER sqlite_fdw \n",
      "  OPTIONS (database '/home/catherine/proj/postgresql-olf2014-lightning/movies.sqlite3');\n",
      "CREATE FOREIGN TABLE movies (movie TEXT, year INTEGER, ship TEXT) \n",
      "SERVER sqlite_server OPTIONS (table 'movies');\n"
     ],
     "language": "python",
     "metadata": {
      "internals": {
       "frag_helper": "fragment_end",
       "frag_number": 39,
       "slide_type": "subslide"
      },
      "slideshow": {
       "slide_type": "subslide"
      }
     },
     "outputs": [
      {
       "output_type": "stream",
       "stream": "stdout",
       "text": [
        "Done.\n",
        "Done.\n",
        "Done.\n",
        "Done.\n"
       ]
      },
      {
       "metadata": {},
       "output_type": "pyout",
       "prompt_number": 32,
       "text": [
        "[]"
       ]
      }
     ],
     "prompt_number": 32
    },
    {
     "cell_type": "code",
     "collapsed": false,
     "input": [
      "%sql SELECT * FROM movies"
     ],
     "language": "python",
     "metadata": {
      "internals": {
       "frag_helper": "fragment_end",
       "frag_number": 41,
       "slide_helper": "subslide_end"
      },
      "slide_helper": "subslide_end",
      "slideshow": {
       "slide_type": "fragment"
      }
     },
     "outputs": [
      {
       "output_type": "stream",
       "stream": "stdout",
       "text": [
        "3 rows affected.\n"
       ]
      },
      {
       "html": [
        "<table>\n",
        "    <tr>\n",
        "        <th>movie</th>\n",
        "        <th>year</th>\n",
        "        <th>ship</th>\n",
        "    </tr>\n",
        "    <tr>\n",
        "        <td>Star Wars</td>\n",
        "        <td>1977</td>\n",
        "        <td>Millenium Falcon</td>\n",
        "    </tr>\n",
        "    <tr>\n",
        "        <td>Serenity</td>\n",
        "        <td>2005</td>\n",
        "        <td>Serenity</td>\n",
        "    </tr>\n",
        "    <tr>\n",
        "        <td>20,000 Leagues Under the Sea</td>\n",
        "        <td>1954</td>\n",
        "        <td>Nautilus</td>\n",
        "    </tr>\n",
        "</table>"
       ],
       "metadata": {},
       "output_type": "pyout",
       "prompt_number": 33,
       "text": [
        "[('Star Wars', 1977, 'Millenium Falcon'),\n",
        " ('Serenity', 2005, 'Serenity'),\n",
        " ('20,000 Leagues Under the Sea', 1954, 'Nautilus')]"
       ]
      }
     ],
     "prompt_number": 33
    },
    {
     "cell_type": "code",
     "collapsed": false,
     "input": [
      "%%sql\n",
      "SELECT   m.year,\n",
      "         r.actor,\n",
      "         s.name\n",
      "FROM     movies m\n",
      "JOIN     ships s ON (m.ship = s.name)\n",
      "JOIN     roles r ON (s.captain = r.role)"
     ],
     "language": "python",
     "metadata": {
      "internals": {
       "frag_helper": "fragment_end",
       "frag_number": 41,
       "slide_helper": "subslide_end",
       "slide_type": "subslide"
      },
      "slide_helper": "slide_end",
      "slideshow": {
       "slide_type": "subslide"
      }
     },
     "outputs": [
      {
       "output_type": "stream",
       "stream": "stdout",
       "text": [
        "2 rows affected.\n"
       ]
      },
      {
       "html": [
        "<table>\n",
        "    <tr>\n",
        "        <th>year</th>\n",
        "        <th>actor</th>\n",
        "        <th>name</th>\n",
        "    </tr>\n",
        "    <tr>\n",
        "        <td>1977</td>\n",
        "        <td>Harrison Ford</td>\n",
        "        <td>Millenium Falcon</td>\n",
        "    </tr>\n",
        "    <tr>\n",
        "        <td>2005</td>\n",
        "        <td>Nathan Fillion</td>\n",
        "        <td>Serenity</td>\n",
        "    </tr>\n",
        "</table>"
       ],
       "metadata": {},
       "output_type": "pyout",
       "prompt_number": 43,
       "text": [
        "[(1977, 'Harrison Ford', 'Millenium Falcon'),\n",
        " (2005, 'Nathan Fillion', 'Serenity')]"
       ]
      }
     ],
     "prompt_number": 43
    }
   ],
   "metadata": {}
  }
 ]
}