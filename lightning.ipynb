{
 "metadata": {
  "celltoolbar": "Slideshow",
  "name": "",
  "signature": "sha256:5529990da2e9de3b7cefd73c6b7a7183d28945e8bd91754cc84b0805fac21bb3"
 },
 "nbformat": 3,
 "nbformat_minor": 0,
 "worksheets": [
  {
   "cells": [
    {
     "cell_type": "markdown",
     "metadata": {
      "internals": {
       "frag_helper": "fragment_end",
       "frag_number": 3
      },
      "slideshow": {
       "slide_type": "fragment"
      }
     },
     "source": [
      "![PostgreSQL logo](postgresql_logo.png)"
     ]
    },
    {
     "cell_type": "heading",
     "level": 1,
     "metadata": {
      "internals": {
       "frag_number": 1
      },
      "slideshow": {
       "slide_type": "fragment"
      }
     },
     "source": [
      "Not Hipster Databases"
     ]
    },
    {
     "cell_type": "markdown",
     "metadata": {
      "internals": {
       "frag_helper": "fragment_end",
       "frag_number": 2
      },
      "slideshow": {
       "slide_type": "fragment"
      }
     },
     "source": [
      "@catherinedevlin, catherinedevlin.blogspot.com\n",
      "\n",
      "http://tinyurl.com/postgresql-not-hipster\n",
      "\n",
      "This is an [IPython Notebook](http://ipython.org/notebook.html) with the [ipython-sql](https://github.com/catherinedevliin/ipython-sql) and [live_reveal](https://github.com/damianavila/live_reveal.git) extensions"
     ]
    },
    {
     "cell_type": "heading",
     "level": 2,
     "metadata": {
      "internals": {
       "frag_helper": "fragment_end",
       "frag_number": 4,
       "slide_helper": "subslide_end"
      },
      "slide_helper": "slide_end",
      "slideshow": {
       "slide_type": "slide"
      }
     },
     "source": [
      "Relational Databases Are Awesome"
     ]
    },
    {
     "cell_type": "heading",
     "level": 3,
     "metadata": {
      "internals": {
       "frag_helper": "fragment_end",
       "frag_number": 4,
       "slide_type": "subslide"
      },
      "slideshow": {
       "slide_type": "subslide"
      }
     },
     "source": [
      "Quit Whining"
     ]
    },
    {
     "cell_type": "code",
     "collapsed": false,
     "input": [
      "!ddlgenerator -d -i postgresql luxembourg.xls | psql"
     ],
     "language": "python",
     "metadata": {
      "internals": {
       "frag_helper": "fragment_end",
       "frag_number": 6
      },
      "slideshow": {
       "slide_type": "fragment"
      }
     },
     "outputs": []
    },
    {
     "cell_type": "code",
     "collapsed": false,
     "input": [
      "%load_ext sql\n",
      "%sql postgresql://:@/catherine SELECT * FROM luxembourg"
     ],
     "language": "python",
     "metadata": {
      "internals": {
       "frag_helper": "fragment_end",
       "frag_number": 7,
       "slide_helper": "subslide_end"
      },
      "slide_helper": "slide_end",
      "slideshow": {
       "slide_type": "subslide"
      }
     },
     "outputs": []
    },
    {
     "cell_type": "heading",
     "level": 1,
     "metadata": {
      "slideshow": {
       "slide_type": "slide"
      }
     },
     "source": [
      "Feeeeeeeatures"
     ]
    },
    {
     "cell_type": "code",
     "collapsed": false,
     "input": [],
     "language": "python",
     "metadata": {
      "slideshow": {
       "slide_type": "subslide"
      }
     },
     "outputs": []
    },
    {
     "cell_type": "heading",
     "level": 1,
     "metadata": {
      "slideshow": {
       "slide_type": "slide"
      }
     },
     "source": [
      "Range Types"
     ]
    },
    {
     "cell_type": "code",
     "collapsed": false,
     "input": [
      "%sql SELECT * FROM luxembourg"
     ],
     "language": "python",
     "metadata": {
      "slideshow": {
       "slide_type": "fragment"
      }
     },
     "outputs": []
    },
    {
     "cell_type": "heading",
     "level": 1,
     "metadata": {
      "internals": {
       "frag_helper": "fragment_end",
       "frag_number": 7,
       "slide_helper": "subslide_end",
       "slide_type": "subslide"
      },
      "slide_helper": "subslide_end",
      "slideshow": {
       "slide_type": "slide"
      }
     },
     "source": [
      "JSON"
     ]
    },
    {
     "cell_type": "code",
     "collapsed": false,
     "input": [
      "%%sql \n",
      "DROP TABLE IF EXISTS family;\n",
      "CREATE TABLE family (id SERIAL PRIMARY KEY, tree JSON NOT NULL);\n",
      "INSERT INTO family (tree) VALUES ('\n",
      "  {\"rank\": \"Prince\",\n",
      "   \"name\": \"Louis\",\n",
      "   \"born\": \"3 Aug 1986\",\n",
      "   \"children\": [\n",
      "     {\"rank\": \"Prince\", \"name\": \"Gabriel Michael Louis Ronny\", \"born\": \"12 Mar 2006\"},\n",
      "     {\"rank\": \"Prince\", \"name\": \"Noah Etienne Guillaume Gabriel Matthias Xavier\", \"born\": \"21 Sep 2007\"}\n",
      "   ]\n",
      "   }');\n",
      "INSERT INTO family (tree) VALUES ('\n",
      "  {\"rank\": \"Princess\",\n",
      "   \"name\": \"Alexandra\",\n",
      "   \"born\": \"16 Feb 1991\"\n",
      "   }');                                 "
     ],
     "language": "python",
     "metadata": {
      "internals": {
       "frag_helper": "fragment_end",
       "frag_number": 7,
       "slide_helper": "subslide_end",
       "slide_type": "subslide"
      },
      "slide_helper": "subslide_end",
      "slideshow": {
       "slide_type": "subslide"
      }
     },
     "outputs": []
    },
    {
     "cell_type": "code",
     "collapsed": false,
     "input": [
      "%sql SELECT * FROM family"
     ],
     "language": "python",
     "metadata": {
      "internals": {
       "frag_helper": "fragment_end",
       "frag_number": 7,
       "slide_type": "subslide"
      },
      "slideshow": {
       "slide_type": "subslide"
      }
     },
     "outputs": []
    },
    {
     "cell_type": "code",
     "collapsed": false,
     "input": [
      "%sql SELECT id, tree->'children'->1->'name' FROM family"
     ],
     "language": "python",
     "metadata": {
      "internals": {
       "frag_helper": "fragment_end",
       "frag_number": 11,
       "slide_helper": "subslide_end"
      },
      "slide_helper": "slide_end",
      "slideshow": {
       "slide_type": "fragment"
      }
     },
     "outputs": []
    },
    {
     "cell_type": "heading",
     "level": 1,
     "metadata": {
      "internals": {
       "frag_helper": "fragment_end",
       "frag_number": 11,
       "slide_helper": "subslide_end",
       "slide_type": "subslide"
      },
      "slide_helper": "subslide_end",
      "slideshow": {
       "slide_type": "slide"
      }
     },
     "source": [
      "Full Text Search"
     ]
    },
    {
     "cell_type": "code",
     "collapsed": false,
     "input": [
      "!ddlgenerator -d -i postgresql http://en.wikipedia.org/wiki/List_of_cities_in_Ohio | psql > /dev/null"
     ],
     "language": "python",
     "metadata": {
      "internals": {
       "frag_helper": "fragment_end",
       "frag_number": 11,
       "slide_type": "subslide"
      },
      "slideshow": {
       "slide_type": "subslide"
      }
     },
     "outputs": []
    },
    {
     "cell_type": "code",
     "collapsed": false,
     "input": [
      "%sql ALTER TABLE list_of_cities_in_ohio RENAME TO cities"
     ],
     "language": "python",
     "metadata": {
      "internals": {
       "frag_helper": "fragment_end",
       "frag_number": 14
      },
      "slideshow": {
       "slide_type": "fragment"
      }
     },
     "outputs": []
    },
    {
     "cell_type": "code",
     "collapsed": false,
     "input": [
      "%sql SELECT * FROM cities LIMIT 5"
     ],
     "language": "python",
     "metadata": {
      "internals": {
       "frag_helper": "fragment_end",
       "frag_number": 15,
       "slide_helper": "subslide_end"
      },
      "slide_helper": "subslide_end",
      "slideshow": {
       "slide_type": "fragment"
      }
     },
     "outputs": []
    },
    {
     "cell_type": "code",
     "collapsed": false,
     "input": [
      "%sql ALTER TABLE cities ADD COLUMN all_txt TSVECTOR"
     ],
     "language": "python",
     "metadata": {
      "internals": {
       "frag_helper": "fragment_end",
       "frag_number": 15,
       "slide_helper": "subslide_end",
       "slide_type": "subslide"
      },
      "slide_helper": "slide_end",
      "slideshow": {
       "slide_type": "subslide"
      }
     },
     "outputs": []
    },
    {
     "cell_type": "code",
     "collapsed": false,
     "input": [
      "%%sql\n",
      "UPDATE   cities\n",
      "SET      all_txt =    SETWEIGHT(TO_TSVECTOR(city), 'A') \n",
      "                   || SETWEIGHT(TO_TSVECTOR(county), 'B');"
     ],
     "language": "python",
     "metadata": {
      "slideshow": {
       "slide_type": "fragment"
      }
     },
     "outputs": []
    },
    {
     "cell_type": "code",
     "collapsed": false,
     "input": [
      "%sql SELECT * FROM cities LIMIT 5"
     ],
     "language": "python",
     "metadata": {
      "slideshow": {
       "slide_type": "fragment"
      }
     },
     "outputs": []
    },
    {
     "cell_type": "code",
     "collapsed": false,
     "input": [
      "%%sql \n",
      "SELECT city, population, county\n",
      "FROM   cities\n",
      "WHERE  all_txt @@ to_tsquery('montgomery')\n",
      "ORDER BY ts_rank(all_txt, to_tsquery('montgomery')) DESC, city"
     ],
     "language": "python",
     "metadata": {
      "slideshow": {
       "slide_type": "subslide"
      }
     },
     "outputs": []
    },
    {
     "cell_type": "heading",
     "level": 1,
     "metadata": {
      "slideshow": {
       "slide_type": "slide"
      }
     },
     "source": [
      "Foreign Data Wrappers"
     ]
    },
    {
     "cell_type": "code",
     "collapsed": false,
     "input": [
      "!sqlite3 movies.sqlite3 \"select * from movies\""
     ],
     "language": "python",
     "metadata": {
      "slideshow": {
       "slide_type": "subslide"
      }
     },
     "outputs": []
    },
    {
     "cell_type": "code",
     "collapsed": false,
     "input": [
      "!mongo spaceships < getships.js"
     ],
     "language": "python",
     "metadata": {
      "slideshow": {
       "slide_type": "fragment"
      }
     },
     "outputs": []
    },
    {
     "cell_type": "code",
     "collapsed": false,
     "input": [
      "!head -5 cast.csv"
     ],
     "language": "python",
     "metadata": {
      "slideshow": {
       "slide_type": "fragment"
      }
     },
     "outputs": []
    },
    {
     "cell_type": "code",
     "collapsed": false,
     "input": [
      "%%sql\n",
      "DROP EXTENSION file_fdw CASCADE;\n",
      "CREATE EXTENSION file_fdw;\n",
      "CREATE SERVER file_server FOREIGN DATA WRAPPER file_fdw;\n",
      "CREATE FOREIGN TABLE roles (role TEXT, actor TEXT)\n",
      "SERVER file_server OPTIONS (filename '/home/catherine/proj/postgresql-olf2014-lightning/cast.csv', \n",
      "                            format 'csv')\n"
     ],
     "language": "python",
     "metadata": {
      "slideshow": {
       "slide_type": "subslide"
      }
     },
     "outputs": []
    },
    {
     "cell_type": "code",
     "collapsed": false,
     "input": [
      "%sql SELECT * FROM roles LIMIT 5"
     ],
     "language": "python",
     "metadata": {
      "slideshow": {
       "slide_type": "subslide"
      }
     },
     "outputs": []
    },
    {
     "cell_type": "code",
     "collapsed": false,
     "input": [
      "%%sql\n",
      "CREATE SERVER csv FOREIGN DATA WRAPPER file_fdw"
     ],
     "language": "python",
     "metadata": {},
     "outputs": []
    },
    {
     "cell_type": "markdown",
     "metadata": {},
     "source": [
      "[so many more!](https://wiki.postgresql.org/wiki/Foreign_data_wrappers)"
     ]
    }
   ],
   "metadata": {}
  }
 ]
}